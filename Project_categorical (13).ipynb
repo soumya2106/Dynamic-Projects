{
 "cells": [
  {
   "cell_type": "code",
   "execution_count": 1,
   "id": "83995d20",
   "metadata": {},
   "outputs": [],
   "source": [
    "import pandas as pd\n",
    "import matplotlib. pyplot as plt\n",
    "%matplotlib inline\n",
    "from datetime import datetime\n",
    "import numpy as np"
   ]
  },
  {
   "cell_type": "markdown",
   "id": "7578fecb",
   "metadata": {},
   "source": [
    "# Importing the dataset"
   ]
  },
  {
   "cell_type": "code",
   "execution_count": 2,
   "id": "ef95b269",
   "metadata": {
    "scrolled": false
   },
   "outputs": [
    {
     "data": {
      "text/html": [
       "<div>\n",
       "<style scoped>\n",
       "    .dataframe tbody tr th:only-of-type {\n",
       "        vertical-align: middle;\n",
       "    }\n",
       "\n",
       "    .dataframe tbody tr th {\n",
       "        vertical-align: top;\n",
       "    }\n",
       "\n",
       "    .dataframe thead th {\n",
       "        text-align: right;\n",
       "    }\n",
       "</style>\n",
       "<table border=\"1\" class=\"dataframe\">\n",
       "  <thead>\n",
       "    <tr style=\"text-align: right;\">\n",
       "      <th></th>\n",
       "      <th>number</th>\n",
       "      <th>incident_state</th>\n",
       "      <th>active</th>\n",
       "      <th>reassignment_count</th>\n",
       "      <th>reopen_count</th>\n",
       "      <th>sys_mod_count</th>\n",
       "      <th>made_sla</th>\n",
       "      <th>caller_id</th>\n",
       "      <th>opened_by</th>\n",
       "      <th>opened_at</th>\n",
       "      <th>...</th>\n",
       "      <th>u_priority_confirmation</th>\n",
       "      <th>notify</th>\n",
       "      <th>problem_id</th>\n",
       "      <th>rfc</th>\n",
       "      <th>vendor</th>\n",
       "      <th>caused_by</th>\n",
       "      <th>closed_code</th>\n",
       "      <th>resolved_by</th>\n",
       "      <th>resolved_at</th>\n",
       "      <th>closed_at</th>\n",
       "    </tr>\n",
       "  </thead>\n",
       "  <tbody>\n",
       "    <tr>\n",
       "      <th>0</th>\n",
       "      <td>INC0000045</td>\n",
       "      <td>New</td>\n",
       "      <td>True</td>\n",
       "      <td>0</td>\n",
       "      <td>0</td>\n",
       "      <td>0</td>\n",
       "      <td>True</td>\n",
       "      <td>Caller 2403</td>\n",
       "      <td>Opened by  8</td>\n",
       "      <td>29-02-2016 01:16</td>\n",
       "      <td>...</td>\n",
       "      <td>False</td>\n",
       "      <td>Do Not Notify</td>\n",
       "      <td>?</td>\n",
       "      <td>?</td>\n",
       "      <td>?</td>\n",
       "      <td>?</td>\n",
       "      <td>code 5</td>\n",
       "      <td>Resolved by 149</td>\n",
       "      <td>29-02-2016 11:29</td>\n",
       "      <td>05-03-2016 12:00</td>\n",
       "    </tr>\n",
       "    <tr>\n",
       "      <th>1</th>\n",
       "      <td>INC0000045</td>\n",
       "      <td>Resolved</td>\n",
       "      <td>True</td>\n",
       "      <td>0</td>\n",
       "      <td>0</td>\n",
       "      <td>2</td>\n",
       "      <td>True</td>\n",
       "      <td>Caller 2403</td>\n",
       "      <td>Opened by  8</td>\n",
       "      <td>29-02-2016 01:16</td>\n",
       "      <td>...</td>\n",
       "      <td>False</td>\n",
       "      <td>Do Not Notify</td>\n",
       "      <td>?</td>\n",
       "      <td>?</td>\n",
       "      <td>?</td>\n",
       "      <td>?</td>\n",
       "      <td>code 5</td>\n",
       "      <td>Resolved by 149</td>\n",
       "      <td>29-02-2016 11:29</td>\n",
       "      <td>05-03-2016 12:00</td>\n",
       "    </tr>\n",
       "    <tr>\n",
       "      <th>2</th>\n",
       "      <td>INC0000045</td>\n",
       "      <td>Resolved</td>\n",
       "      <td>True</td>\n",
       "      <td>0</td>\n",
       "      <td>0</td>\n",
       "      <td>3</td>\n",
       "      <td>True</td>\n",
       "      <td>Caller 2403</td>\n",
       "      <td>Opened by  8</td>\n",
       "      <td>29-02-2016 01:16</td>\n",
       "      <td>...</td>\n",
       "      <td>False</td>\n",
       "      <td>Do Not Notify</td>\n",
       "      <td>?</td>\n",
       "      <td>?</td>\n",
       "      <td>?</td>\n",
       "      <td>?</td>\n",
       "      <td>code 5</td>\n",
       "      <td>Resolved by 149</td>\n",
       "      <td>29-02-2016 11:29</td>\n",
       "      <td>05-03-2016 12:00</td>\n",
       "    </tr>\n",
       "    <tr>\n",
       "      <th>3</th>\n",
       "      <td>INC0000045</td>\n",
       "      <td>Closed</td>\n",
       "      <td>False</td>\n",
       "      <td>0</td>\n",
       "      <td>0</td>\n",
       "      <td>4</td>\n",
       "      <td>True</td>\n",
       "      <td>Caller 2403</td>\n",
       "      <td>Opened by  8</td>\n",
       "      <td>29-02-2016 01:16</td>\n",
       "      <td>...</td>\n",
       "      <td>False</td>\n",
       "      <td>Do Not Notify</td>\n",
       "      <td>?</td>\n",
       "      <td>?</td>\n",
       "      <td>?</td>\n",
       "      <td>?</td>\n",
       "      <td>code 5</td>\n",
       "      <td>Resolved by 149</td>\n",
       "      <td>29-02-2016 11:29</td>\n",
       "      <td>05-03-2016 12:00</td>\n",
       "    </tr>\n",
       "    <tr>\n",
       "      <th>4</th>\n",
       "      <td>INC0000047</td>\n",
       "      <td>New</td>\n",
       "      <td>True</td>\n",
       "      <td>0</td>\n",
       "      <td>0</td>\n",
       "      <td>0</td>\n",
       "      <td>True</td>\n",
       "      <td>Caller 2403</td>\n",
       "      <td>Opened by  397</td>\n",
       "      <td>29-02-2016 04:40</td>\n",
       "      <td>...</td>\n",
       "      <td>False</td>\n",
       "      <td>Do Not Notify</td>\n",
       "      <td>?</td>\n",
       "      <td>?</td>\n",
       "      <td>?</td>\n",
       "      <td>?</td>\n",
       "      <td>code 5</td>\n",
       "      <td>Resolved by 81</td>\n",
       "      <td>01-03-2016 09:52</td>\n",
       "      <td>06-03-2016 10:00</td>\n",
       "    </tr>\n",
       "  </tbody>\n",
       "</table>\n",
       "<p>5 rows × 36 columns</p>\n",
       "</div>"
      ],
      "text/plain": [
       "       number incident_state  active  reassignment_count  reopen_count  \\\n",
       "0  INC0000045            New    True                   0             0   \n",
       "1  INC0000045       Resolved    True                   0             0   \n",
       "2  INC0000045       Resolved    True                   0             0   \n",
       "3  INC0000045         Closed   False                   0             0   \n",
       "4  INC0000047            New    True                   0             0   \n",
       "\n",
       "   sys_mod_count  made_sla    caller_id       opened_by         opened_at  \\\n",
       "0              0      True  Caller 2403    Opened by  8  29-02-2016 01:16   \n",
       "1              2      True  Caller 2403    Opened by  8  29-02-2016 01:16   \n",
       "2              3      True  Caller 2403    Opened by  8  29-02-2016 01:16   \n",
       "3              4      True  Caller 2403    Opened by  8  29-02-2016 01:16   \n",
       "4              0      True  Caller 2403  Opened by  397  29-02-2016 04:40   \n",
       "\n",
       "   ... u_priority_confirmation         notify problem_id rfc vendor caused_by  \\\n",
       "0  ...                   False  Do Not Notify          ?   ?      ?         ?   \n",
       "1  ...                   False  Do Not Notify          ?   ?      ?         ?   \n",
       "2  ...                   False  Do Not Notify          ?   ?      ?         ?   \n",
       "3  ...                   False  Do Not Notify          ?   ?      ?         ?   \n",
       "4  ...                   False  Do Not Notify          ?   ?      ?         ?   \n",
       "\n",
       "  closed_code      resolved_by       resolved_at         closed_at  \n",
       "0      code 5  Resolved by 149  29-02-2016 11:29  05-03-2016 12:00  \n",
       "1      code 5  Resolved by 149  29-02-2016 11:29  05-03-2016 12:00  \n",
       "2      code 5  Resolved by 149  29-02-2016 11:29  05-03-2016 12:00  \n",
       "3      code 5  Resolved by 149  29-02-2016 11:29  05-03-2016 12:00  \n",
       "4      code 5   Resolved by 81  01-03-2016 09:52  06-03-2016 10:00  \n",
       "\n",
       "[5 rows x 36 columns]"
      ]
     },
     "execution_count": 2,
     "metadata": {},
     "output_type": "execute_result"
    }
   ],
   "source": [
    "data=pd.read_csv(\"C:/Users/S540/Desktop/Project Data science/incident_event_log.csv\")\n",
    "data.head(5)"
   ]
  },
  {
   "cell_type": "code",
   "execution_count": 3,
   "id": "c40ecb48",
   "metadata": {},
   "outputs": [
    {
     "name": "stdout",
     "output_type": "stream",
     "text": [
      "<class 'pandas.core.frame.DataFrame'>\n",
      "RangeIndex: 141712 entries, 0 to 141711\n",
      "Data columns (total 36 columns):\n",
      " #   Column                   Non-Null Count   Dtype \n",
      "---  ------                   --------------   ----- \n",
      " 0   number                   141712 non-null  object\n",
      " 1   incident_state           141712 non-null  object\n",
      " 2   active                   141712 non-null  bool  \n",
      " 3   reassignment_count       141712 non-null  int64 \n",
      " 4   reopen_count             141712 non-null  int64 \n",
      " 5   sys_mod_count            141712 non-null  int64 \n",
      " 6   made_sla                 141712 non-null  bool  \n",
      " 7   caller_id                141712 non-null  object\n",
      " 8   opened_by                141712 non-null  object\n",
      " 9   opened_at                141712 non-null  object\n",
      " 10  sys_created_by           141712 non-null  object\n",
      " 11  sys_created_at           141712 non-null  object\n",
      " 12  sys_updated_by           141712 non-null  object\n",
      " 13  sys_updated_at           141712 non-null  object\n",
      " 14  contact_type             141712 non-null  object\n",
      " 15  location                 141712 non-null  object\n",
      " 16  category                 141712 non-null  object\n",
      " 17  subcategory              141712 non-null  object\n",
      " 18  u_symptom                141712 non-null  object\n",
      " 19  cmd                      141712 non-null  object\n",
      " 20  impact                   141712 non-null  object\n",
      " 21  urgency                  141712 non-null  object\n",
      " 22  priority                 141712 non-null  object\n",
      " 23  assignment_group         141712 non-null  object\n",
      " 24  assigned_to              141712 non-null  object\n",
      " 25  knowledge                141712 non-null  bool  \n",
      " 26  u_priority_confirmation  141712 non-null  bool  \n",
      " 27  notify                   141712 non-null  object\n",
      " 28  problem_id               141712 non-null  object\n",
      " 29  rfc                      141712 non-null  object\n",
      " 30  vendor                   141712 non-null  object\n",
      " 31  caused_by                141712 non-null  object\n",
      " 32  closed_code              141712 non-null  object\n",
      " 33  resolved_by              141712 non-null  object\n",
      " 34  resolved_at              141712 non-null  object\n",
      " 35  closed_at                141712 non-null  object\n",
      "dtypes: bool(4), int64(3), object(29)\n",
      "memory usage: 35.1+ MB\n"
     ]
    }
   ],
   "source": [
    "data.info()"
   ]
  },
  {
   "cell_type": "code",
   "execution_count": 4,
   "id": "8a161066",
   "metadata": {},
   "outputs": [],
   "source": [
    "data['number']=data['number'].astype('category')\n",
    "data['incident_state']=data['incident_state'].astype('category')\n",
    "data['caller_id']=data['caller_id'].astype('category')\n",
    "data['opened_by']=data['opened_by'].astype('category')\n",
    "data['opened_at']=data['opened_at'].astype('category')\n",
    "data['sys_created_by']=data['sys_created_by'].astype('category')\n",
    "data['sys_created_at']=data['sys_created_at'].astype('category')\n",
    "data['sys_updated_by']=data['sys_updated_by'].astype('category')\n",
    "data['sys_updated_at']=data['sys_updated_at'].astype('category')\n",
    "data['contact_type']=data['contact_type'].astype('category')\n",
    "data['location']=data['location'].astype('category')\n",
    "data['category']=data['category'].astype('category')\n",
    "data['subcategory']=data['subcategory'].astype('category')\n",
    "data['u_symptom']=data['u_symptom'].astype('category')\n",
    "data['cmd']=data['cmd'].astype('category')\n",
    "data['impact']=data['impact'].astype('category')\n",
    "data['urgency']=data['urgency'].astype('category')\n",
    "data['priority']=data['priority'].astype('category')\n",
    "data['assignment_group']=data['assignment_group'].astype('category')\n",
    "data['assigned_to']=data['assigned_to'].astype('category')\n",
    "data['notify']=data['notify'].astype('category')\n",
    "data['problem_id']=data['problem_id'].astype('category')\n",
    "data['rfc']=data['rfc'].astype('category')\n",
    "data['vendor']=data['vendor'].astype('category')\n",
    "data['caused_by']=data['caused_by'].astype('category')\n",
    "data['closed_code']=data['closed_code'].astype('category')\n",
    "data['resolved_by']=data['resolved_by'].astype('category')\n",
    "data['resolved_at']=data['resolved_at'].astype('category')\n",
    "data['closed_at']=data['closed_at'].astype('category')"
   ]
  },
  {
   "cell_type": "code",
   "execution_count": 5,
   "id": "78e34d14",
   "metadata": {
    "scrolled": false
   },
   "outputs": [
    {
     "name": "stdout",
     "output_type": "stream",
     "text": [
      "<class 'pandas.core.frame.DataFrame'>\n",
      "RangeIndex: 141712 entries, 0 to 141711\n",
      "Data columns (total 36 columns):\n",
      " #   Column                   Non-Null Count   Dtype   \n",
      "---  ------                   --------------   -----   \n",
      " 0   number                   141712 non-null  category\n",
      " 1   incident_state           141712 non-null  category\n",
      " 2   active                   141712 non-null  bool    \n",
      " 3   reassignment_count       141712 non-null  int64   \n",
      " 4   reopen_count             141712 non-null  int64   \n",
      " 5   sys_mod_count            141712 non-null  int64   \n",
      " 6   made_sla                 141712 non-null  bool    \n",
      " 7   caller_id                141712 non-null  category\n",
      " 8   opened_by                141712 non-null  category\n",
      " 9   opened_at                141712 non-null  category\n",
      " 10  sys_created_by           141712 non-null  category\n",
      " 11  sys_created_at           141712 non-null  category\n",
      " 12  sys_updated_by           141712 non-null  category\n",
      " 13  sys_updated_at           141712 non-null  category\n",
      " 14  contact_type             141712 non-null  category\n",
      " 15  location                 141712 non-null  category\n",
      " 16  category                 141712 non-null  category\n",
      " 17  subcategory              141712 non-null  category\n",
      " 18  u_symptom                141712 non-null  category\n",
      " 19  cmd                      141712 non-null  category\n",
      " 20  impact                   141712 non-null  category\n",
      " 21  urgency                  141712 non-null  category\n",
      " 22  priority                 141712 non-null  category\n",
      " 23  assignment_group         141712 non-null  category\n",
      " 24  assigned_to              141712 non-null  category\n",
      " 25  knowledge                141712 non-null  bool    \n",
      " 26  u_priority_confirmation  141712 non-null  bool    \n",
      " 27  notify                   141712 non-null  category\n",
      " 28  problem_id               141712 non-null  category\n",
      " 29  rfc                      141712 non-null  category\n",
      " 30  vendor                   141712 non-null  category\n",
      " 31  caused_by                141712 non-null  category\n",
      " 32  closed_code              141712 non-null  category\n",
      " 33  resolved_by              141712 non-null  category\n",
      " 34  resolved_at              141712 non-null  category\n",
      " 35  closed_at                141712 non-null  category\n",
      "dtypes: bool(4), category(29), int64(3)\n",
      "memory usage: 15.4 MB\n"
     ]
    }
   ],
   "source": [
    "data.info()"
   ]
  },
  {
   "cell_type": "markdown",
   "id": "5d91d1a3",
   "metadata": {},
   "source": [
    "# PPS Score"
   ]
  },
  {
   "cell_type": "code",
   "execution_count": 6,
   "id": "b2edd8d7",
   "metadata": {},
   "outputs": [],
   "source": [
    "import ppscore as pps"
   ]
  },
  {
   "cell_type": "code",
   "execution_count": 7,
   "id": "3d2fe07e",
   "metadata": {},
   "outputs": [
    {
     "data": {
      "text/plain": [
       "{'x': 'impact',\n",
       " 'y': 'urgency',\n",
       " 'ppscore': 0.7130381659034711,\n",
       " 'case': 'classification',\n",
       " 'is_valid_score': True,\n",
       " 'metric': 'weighted F1',\n",
       " 'baseline_score': 0.9173949393128987,\n",
       " 'model_score': 0.9762955002795743,\n",
       " 'model': DecisionTreeClassifier()}"
      ]
     },
     "execution_count": 7,
     "metadata": {},
     "output_type": "execute_result"
    }
   ],
   "source": [
    "pps.score(data,\"impact\", \"urgency\")"
   ]
  },
  {
   "cell_type": "code",
   "execution_count": 8,
   "id": "b5b8241a",
   "metadata": {},
   "outputs": [
    {
     "data": {
      "text/html": [
       "<div>\n",
       "<style scoped>\n",
       "    .dataframe tbody tr th:only-of-type {\n",
       "        vertical-align: middle;\n",
       "    }\n",
       "\n",
       "    .dataframe tbody tr th {\n",
       "        vertical-align: top;\n",
       "    }\n",
       "\n",
       "    .dataframe thead th {\n",
       "        text-align: right;\n",
       "    }\n",
       "</style>\n",
       "<table border=\"1\" class=\"dataframe\">\n",
       "  <thead>\n",
       "    <tr style=\"text-align: right;\">\n",
       "      <th></th>\n",
       "      <th>x</th>\n",
       "      <th>y</th>\n",
       "      <th>ppscore</th>\n",
       "      <th>case</th>\n",
       "      <th>is_valid_score</th>\n",
       "      <th>metric</th>\n",
       "      <th>baseline_score</th>\n",
       "      <th>model_score</th>\n",
       "      <th>model</th>\n",
       "    </tr>\n",
       "  </thead>\n",
       "  <tbody>\n",
       "    <tr>\n",
       "      <th>0</th>\n",
       "      <td>priority</td>\n",
       "      <td>impact</td>\n",
       "      <td>8.776909e-01</td>\n",
       "      <td>classification</td>\n",
       "      <td>True</td>\n",
       "      <td>weighted F1</td>\n",
       "      <td>0.920044</td>\n",
       "      <td>0.990221</td>\n",
       "      <td>DecisionTreeClassifier()</td>\n",
       "    </tr>\n",
       "    <tr>\n",
       "      <th>1</th>\n",
       "      <td>urgency</td>\n",
       "      <td>impact</td>\n",
       "      <td>7.209987e-01</td>\n",
       "      <td>classification</td>\n",
       "      <td>True</td>\n",
       "      <td>weighted F1</td>\n",
       "      <td>0.920044</td>\n",
       "      <td>0.977692</td>\n",
       "      <td>DecisionTreeClassifier()</td>\n",
       "    </tr>\n",
       "    <tr>\n",
       "      <th>2</th>\n",
       "      <td>number</td>\n",
       "      <td>impact</td>\n",
       "      <td>2.112581e-01</td>\n",
       "      <td>classification</td>\n",
       "      <td>True</td>\n",
       "      <td>weighted F1</td>\n",
       "      <td>0.920044</td>\n",
       "      <td>0.936935</td>\n",
       "      <td>DecisionTreeClassifier()</td>\n",
       "    </tr>\n",
       "    <tr>\n",
       "      <th>3</th>\n",
       "      <td>resolved_at</td>\n",
       "      <td>impact</td>\n",
       "      <td>2.051733e-01</td>\n",
       "      <td>classification</td>\n",
       "      <td>True</td>\n",
       "      <td>weighted F1</td>\n",
       "      <td>0.920044</td>\n",
       "      <td>0.936449</td>\n",
       "      <td>DecisionTreeClassifier()</td>\n",
       "    </tr>\n",
       "    <tr>\n",
       "      <th>4</th>\n",
       "      <td>problem_id</td>\n",
       "      <td>impact</td>\n",
       "      <td>1.923161e-01</td>\n",
       "      <td>classification</td>\n",
       "      <td>True</td>\n",
       "      <td>weighted F1</td>\n",
       "      <td>0.920044</td>\n",
       "      <td>0.935421</td>\n",
       "      <td>DecisionTreeClassifier()</td>\n",
       "    </tr>\n",
       "    <tr>\n",
       "      <th>5</th>\n",
       "      <td>opened_at</td>\n",
       "      <td>impact</td>\n",
       "      <td>1.895234e-01</td>\n",
       "      <td>classification</td>\n",
       "      <td>True</td>\n",
       "      <td>weighted F1</td>\n",
       "      <td>0.920044</td>\n",
       "      <td>0.935197</td>\n",
       "      <td>DecisionTreeClassifier()</td>\n",
       "    </tr>\n",
       "    <tr>\n",
       "      <th>6</th>\n",
       "      <td>sys_created_at</td>\n",
       "      <td>impact</td>\n",
       "      <td>1.155978e-01</td>\n",
       "      <td>classification</td>\n",
       "      <td>True</td>\n",
       "      <td>weighted F1</td>\n",
       "      <td>0.920044</td>\n",
       "      <td>0.929286</td>\n",
       "      <td>DecisionTreeClassifier()</td>\n",
       "    </tr>\n",
       "    <tr>\n",
       "      <th>7</th>\n",
       "      <td>resolved_by</td>\n",
       "      <td>impact</td>\n",
       "      <td>9.983906e-02</td>\n",
       "      <td>classification</td>\n",
       "      <td>True</td>\n",
       "      <td>weighted F1</td>\n",
       "      <td>0.920044</td>\n",
       "      <td>0.928026</td>\n",
       "      <td>DecisionTreeClassifier()</td>\n",
       "    </tr>\n",
       "    <tr>\n",
       "      <th>8</th>\n",
       "      <td>closed_at</td>\n",
       "      <td>impact</td>\n",
       "      <td>7.569195e-02</td>\n",
       "      <td>classification</td>\n",
       "      <td>True</td>\n",
       "      <td>weighted F1</td>\n",
       "      <td>0.920044</td>\n",
       "      <td>0.926096</td>\n",
       "      <td>DecisionTreeClassifier()</td>\n",
       "    </tr>\n",
       "    <tr>\n",
       "      <th>9</th>\n",
       "      <td>sys_updated_by</td>\n",
       "      <td>impact</td>\n",
       "      <td>5.360893e-02</td>\n",
       "      <td>classification</td>\n",
       "      <td>True</td>\n",
       "      <td>weighted F1</td>\n",
       "      <td>0.920044</td>\n",
       "      <td>0.924330</td>\n",
       "      <td>DecisionTreeClassifier()</td>\n",
       "    </tr>\n",
       "    <tr>\n",
       "      <th>10</th>\n",
       "      <td>opened_by</td>\n",
       "      <td>impact</td>\n",
       "      <td>5.260372e-02</td>\n",
       "      <td>classification</td>\n",
       "      <td>True</td>\n",
       "      <td>weighted F1</td>\n",
       "      <td>0.920044</td>\n",
       "      <td>0.924250</td>\n",
       "      <td>DecisionTreeClassifier()</td>\n",
       "    </tr>\n",
       "    <tr>\n",
       "      <th>11</th>\n",
       "      <td>sys_created_by</td>\n",
       "      <td>impact</td>\n",
       "      <td>4.067545e-02</td>\n",
       "      <td>classification</td>\n",
       "      <td>True</td>\n",
       "      <td>weighted F1</td>\n",
       "      <td>0.920044</td>\n",
       "      <td>0.923296</td>\n",
       "      <td>DecisionTreeClassifier()</td>\n",
       "    </tr>\n",
       "    <tr>\n",
       "      <th>12</th>\n",
       "      <td>caller_id</td>\n",
       "      <td>impact</td>\n",
       "      <td>3.533860e-02</td>\n",
       "      <td>classification</td>\n",
       "      <td>True</td>\n",
       "      <td>weighted F1</td>\n",
       "      <td>0.920044</td>\n",
       "      <td>0.922869</td>\n",
       "      <td>DecisionTreeClassifier()</td>\n",
       "    </tr>\n",
       "    <tr>\n",
       "      <th>13</th>\n",
       "      <td>assigned_to</td>\n",
       "      <td>impact</td>\n",
       "      <td>3.497895e-02</td>\n",
       "      <td>classification</td>\n",
       "      <td>True</td>\n",
       "      <td>weighted F1</td>\n",
       "      <td>0.920044</td>\n",
       "      <td>0.922840</td>\n",
       "      <td>DecisionTreeClassifier()</td>\n",
       "    </tr>\n",
       "    <tr>\n",
       "      <th>14</th>\n",
       "      <td>assignment_group</td>\n",
       "      <td>impact</td>\n",
       "      <td>4.732871e-03</td>\n",
       "      <td>classification</td>\n",
       "      <td>True</td>\n",
       "      <td>weighted F1</td>\n",
       "      <td>0.920044</td>\n",
       "      <td>0.920422</td>\n",
       "      <td>DecisionTreeClassifier()</td>\n",
       "    </tr>\n",
       "    <tr>\n",
       "      <th>15</th>\n",
       "      <td>location</td>\n",
       "      <td>impact</td>\n",
       "      <td>3.145587e-03</td>\n",
       "      <td>classification</td>\n",
       "      <td>True</td>\n",
       "      <td>weighted F1</td>\n",
       "      <td>0.920044</td>\n",
       "      <td>0.920295</td>\n",
       "      <td>DecisionTreeClassifier()</td>\n",
       "    </tr>\n",
       "    <tr>\n",
       "      <th>16</th>\n",
       "      <td>u_symptom</td>\n",
       "      <td>impact</td>\n",
       "      <td>2.903694e-03</td>\n",
       "      <td>classification</td>\n",
       "      <td>True</td>\n",
       "      <td>weighted F1</td>\n",
       "      <td>0.920044</td>\n",
       "      <td>0.920276</td>\n",
       "      <td>DecisionTreeClassifier()</td>\n",
       "    </tr>\n",
       "    <tr>\n",
       "      <th>17</th>\n",
       "      <td>subcategory</td>\n",
       "      <td>impact</td>\n",
       "      <td>2.160913e-03</td>\n",
       "      <td>classification</td>\n",
       "      <td>True</td>\n",
       "      <td>weighted F1</td>\n",
       "      <td>0.920044</td>\n",
       "      <td>0.920216</td>\n",
       "      <td>DecisionTreeClassifier()</td>\n",
       "    </tr>\n",
       "    <tr>\n",
       "      <th>18</th>\n",
       "      <td>incident_state</td>\n",
       "      <td>impact</td>\n",
       "      <td>4.072724e-07</td>\n",
       "      <td>classification</td>\n",
       "      <td>True</td>\n",
       "      <td>weighted F1</td>\n",
       "      <td>0.920044</td>\n",
       "      <td>0.920044</td>\n",
       "      <td>DecisionTreeClassifier()</td>\n",
       "    </tr>\n",
       "    <tr>\n",
       "      <th>19</th>\n",
       "      <td>active</td>\n",
       "      <td>impact</td>\n",
       "      <td>4.072724e-07</td>\n",
       "      <td>classification</td>\n",
       "      <td>True</td>\n",
       "      <td>weighted F1</td>\n",
       "      <td>0.920044</td>\n",
       "      <td>0.920044</td>\n",
       "      <td>DecisionTreeClassifier()</td>\n",
       "    </tr>\n",
       "    <tr>\n",
       "      <th>20</th>\n",
       "      <td>reassignment_count</td>\n",
       "      <td>impact</td>\n",
       "      <td>4.072724e-07</td>\n",
       "      <td>classification</td>\n",
       "      <td>True</td>\n",
       "      <td>weighted F1</td>\n",
       "      <td>0.920044</td>\n",
       "      <td>0.920044</td>\n",
       "      <td>DecisionTreeClassifier()</td>\n",
       "    </tr>\n",
       "    <tr>\n",
       "      <th>21</th>\n",
       "      <td>reopen_count</td>\n",
       "      <td>impact</td>\n",
       "      <td>4.072724e-07</td>\n",
       "      <td>classification</td>\n",
       "      <td>True</td>\n",
       "      <td>weighted F1</td>\n",
       "      <td>0.920044</td>\n",
       "      <td>0.920044</td>\n",
       "      <td>DecisionTreeClassifier()</td>\n",
       "    </tr>\n",
       "    <tr>\n",
       "      <th>22</th>\n",
       "      <td>made_sla</td>\n",
       "      <td>impact</td>\n",
       "      <td>4.072724e-07</td>\n",
       "      <td>classification</td>\n",
       "      <td>True</td>\n",
       "      <td>weighted F1</td>\n",
       "      <td>0.920044</td>\n",
       "      <td>0.920044</td>\n",
       "      <td>DecisionTreeClassifier()</td>\n",
       "    </tr>\n",
       "    <tr>\n",
       "      <th>23</th>\n",
       "      <td>contact_type</td>\n",
       "      <td>impact</td>\n",
       "      <td>4.072724e-07</td>\n",
       "      <td>classification</td>\n",
       "      <td>True</td>\n",
       "      <td>weighted F1</td>\n",
       "      <td>0.920044</td>\n",
       "      <td>0.920044</td>\n",
       "      <td>DecisionTreeClassifier()</td>\n",
       "    </tr>\n",
       "    <tr>\n",
       "      <th>24</th>\n",
       "      <td>cmd</td>\n",
       "      <td>impact</td>\n",
       "      <td>4.072724e-07</td>\n",
       "      <td>classification</td>\n",
       "      <td>True</td>\n",
       "      <td>weighted F1</td>\n",
       "      <td>0.920044</td>\n",
       "      <td>0.920044</td>\n",
       "      <td>DecisionTreeClassifier()</td>\n",
       "    </tr>\n",
       "    <tr>\n",
       "      <th>25</th>\n",
       "      <td>knowledge</td>\n",
       "      <td>impact</td>\n",
       "      <td>4.072724e-07</td>\n",
       "      <td>classification</td>\n",
       "      <td>True</td>\n",
       "      <td>weighted F1</td>\n",
       "      <td>0.920044</td>\n",
       "      <td>0.920044</td>\n",
       "      <td>DecisionTreeClassifier()</td>\n",
       "    </tr>\n",
       "    <tr>\n",
       "      <th>26</th>\n",
       "      <td>u_priority_confirmation</td>\n",
       "      <td>impact</td>\n",
       "      <td>4.072724e-07</td>\n",
       "      <td>classification</td>\n",
       "      <td>True</td>\n",
       "      <td>weighted F1</td>\n",
       "      <td>0.920044</td>\n",
       "      <td>0.920044</td>\n",
       "      <td>DecisionTreeClassifier()</td>\n",
       "    </tr>\n",
       "    <tr>\n",
       "      <th>27</th>\n",
       "      <td>notify</td>\n",
       "      <td>impact</td>\n",
       "      <td>4.072724e-07</td>\n",
       "      <td>classification</td>\n",
       "      <td>True</td>\n",
       "      <td>weighted F1</td>\n",
       "      <td>0.920044</td>\n",
       "      <td>0.920044</td>\n",
       "      <td>DecisionTreeClassifier()</td>\n",
       "    </tr>\n",
       "    <tr>\n",
       "      <th>28</th>\n",
       "      <td>vendor</td>\n",
       "      <td>impact</td>\n",
       "      <td>4.072724e-07</td>\n",
       "      <td>classification</td>\n",
       "      <td>True</td>\n",
       "      <td>weighted F1</td>\n",
       "      <td>0.920044</td>\n",
       "      <td>0.920044</td>\n",
       "      <td>DecisionTreeClassifier()</td>\n",
       "    </tr>\n",
       "    <tr>\n",
       "      <th>29</th>\n",
       "      <td>caused_by</td>\n",
       "      <td>impact</td>\n",
       "      <td>4.072724e-07</td>\n",
       "      <td>classification</td>\n",
       "      <td>True</td>\n",
       "      <td>weighted F1</td>\n",
       "      <td>0.920044</td>\n",
       "      <td>0.920044</td>\n",
       "      <td>DecisionTreeClassifier()</td>\n",
       "    </tr>\n",
       "    <tr>\n",
       "      <th>30</th>\n",
       "      <td>closed_code</td>\n",
       "      <td>impact</td>\n",
       "      <td>4.072724e-07</td>\n",
       "      <td>classification</td>\n",
       "      <td>True</td>\n",
       "      <td>weighted F1</td>\n",
       "      <td>0.920044</td>\n",
       "      <td>0.920044</td>\n",
       "      <td>DecisionTreeClassifier()</td>\n",
       "    </tr>\n",
       "    <tr>\n",
       "      <th>31</th>\n",
       "      <td>sys_mod_count</td>\n",
       "      <td>impact</td>\n",
       "      <td>0.000000e+00</td>\n",
       "      <td>classification</td>\n",
       "      <td>True</td>\n",
       "      <td>weighted F1</td>\n",
       "      <td>0.920044</td>\n",
       "      <td>0.919644</td>\n",
       "      <td>DecisionTreeClassifier()</td>\n",
       "    </tr>\n",
       "    <tr>\n",
       "      <th>32</th>\n",
       "      <td>sys_updated_at</td>\n",
       "      <td>impact</td>\n",
       "      <td>0.000000e+00</td>\n",
       "      <td>classification</td>\n",
       "      <td>True</td>\n",
       "      <td>weighted F1</td>\n",
       "      <td>0.920044</td>\n",
       "      <td>0.918283</td>\n",
       "      <td>DecisionTreeClassifier()</td>\n",
       "    </tr>\n",
       "    <tr>\n",
       "      <th>33</th>\n",
       "      <td>category</td>\n",
       "      <td>impact</td>\n",
       "      <td>0.000000e+00</td>\n",
       "      <td>classification</td>\n",
       "      <td>True</td>\n",
       "      <td>weighted F1</td>\n",
       "      <td>0.920044</td>\n",
       "      <td>0.919543</td>\n",
       "      <td>DecisionTreeClassifier()</td>\n",
       "    </tr>\n",
       "    <tr>\n",
       "      <th>34</th>\n",
       "      <td>rfc</td>\n",
       "      <td>impact</td>\n",
       "      <td>0.000000e+00</td>\n",
       "      <td>classification</td>\n",
       "      <td>True</td>\n",
       "      <td>weighted F1</td>\n",
       "      <td>0.920044</td>\n",
       "      <td>0.919944</td>\n",
       "      <td>DecisionTreeClassifier()</td>\n",
       "    </tr>\n",
       "  </tbody>\n",
       "</table>\n",
       "</div>"
      ],
      "text/plain": [
       "                          x       y       ppscore            case  \\\n",
       "0                  priority  impact  8.776909e-01  classification   \n",
       "1                   urgency  impact  7.209987e-01  classification   \n",
       "2                    number  impact  2.112581e-01  classification   \n",
       "3               resolved_at  impact  2.051733e-01  classification   \n",
       "4                problem_id  impact  1.923161e-01  classification   \n",
       "5                 opened_at  impact  1.895234e-01  classification   \n",
       "6            sys_created_at  impact  1.155978e-01  classification   \n",
       "7               resolved_by  impact  9.983906e-02  classification   \n",
       "8                 closed_at  impact  7.569195e-02  classification   \n",
       "9            sys_updated_by  impact  5.360893e-02  classification   \n",
       "10                opened_by  impact  5.260372e-02  classification   \n",
       "11           sys_created_by  impact  4.067545e-02  classification   \n",
       "12                caller_id  impact  3.533860e-02  classification   \n",
       "13              assigned_to  impact  3.497895e-02  classification   \n",
       "14         assignment_group  impact  4.732871e-03  classification   \n",
       "15                 location  impact  3.145587e-03  classification   \n",
       "16                u_symptom  impact  2.903694e-03  classification   \n",
       "17              subcategory  impact  2.160913e-03  classification   \n",
       "18           incident_state  impact  4.072724e-07  classification   \n",
       "19                   active  impact  4.072724e-07  classification   \n",
       "20       reassignment_count  impact  4.072724e-07  classification   \n",
       "21             reopen_count  impact  4.072724e-07  classification   \n",
       "22                 made_sla  impact  4.072724e-07  classification   \n",
       "23             contact_type  impact  4.072724e-07  classification   \n",
       "24                      cmd  impact  4.072724e-07  classification   \n",
       "25                knowledge  impact  4.072724e-07  classification   \n",
       "26  u_priority_confirmation  impact  4.072724e-07  classification   \n",
       "27                   notify  impact  4.072724e-07  classification   \n",
       "28                   vendor  impact  4.072724e-07  classification   \n",
       "29                caused_by  impact  4.072724e-07  classification   \n",
       "30              closed_code  impact  4.072724e-07  classification   \n",
       "31            sys_mod_count  impact  0.000000e+00  classification   \n",
       "32           sys_updated_at  impact  0.000000e+00  classification   \n",
       "33                 category  impact  0.000000e+00  classification   \n",
       "34                      rfc  impact  0.000000e+00  classification   \n",
       "\n",
       "    is_valid_score       metric  baseline_score  model_score  \\\n",
       "0             True  weighted F1        0.920044     0.990221   \n",
       "1             True  weighted F1        0.920044     0.977692   \n",
       "2             True  weighted F1        0.920044     0.936935   \n",
       "3             True  weighted F1        0.920044     0.936449   \n",
       "4             True  weighted F1        0.920044     0.935421   \n",
       "5             True  weighted F1        0.920044     0.935197   \n",
       "6             True  weighted F1        0.920044     0.929286   \n",
       "7             True  weighted F1        0.920044     0.928026   \n",
       "8             True  weighted F1        0.920044     0.926096   \n",
       "9             True  weighted F1        0.920044     0.924330   \n",
       "10            True  weighted F1        0.920044     0.924250   \n",
       "11            True  weighted F1        0.920044     0.923296   \n",
       "12            True  weighted F1        0.920044     0.922869   \n",
       "13            True  weighted F1        0.920044     0.922840   \n",
       "14            True  weighted F1        0.920044     0.920422   \n",
       "15            True  weighted F1        0.920044     0.920295   \n",
       "16            True  weighted F1        0.920044     0.920276   \n",
       "17            True  weighted F1        0.920044     0.920216   \n",
       "18            True  weighted F1        0.920044     0.920044   \n",
       "19            True  weighted F1        0.920044     0.920044   \n",
       "20            True  weighted F1        0.920044     0.920044   \n",
       "21            True  weighted F1        0.920044     0.920044   \n",
       "22            True  weighted F1        0.920044     0.920044   \n",
       "23            True  weighted F1        0.920044     0.920044   \n",
       "24            True  weighted F1        0.920044     0.920044   \n",
       "25            True  weighted F1        0.920044     0.920044   \n",
       "26            True  weighted F1        0.920044     0.920044   \n",
       "27            True  weighted F1        0.920044     0.920044   \n",
       "28            True  weighted F1        0.920044     0.920044   \n",
       "29            True  weighted F1        0.920044     0.920044   \n",
       "30            True  weighted F1        0.920044     0.920044   \n",
       "31            True  weighted F1        0.920044     0.919644   \n",
       "32            True  weighted F1        0.920044     0.918283   \n",
       "33            True  weighted F1        0.920044     0.919543   \n",
       "34            True  weighted F1        0.920044     0.919944   \n",
       "\n",
       "                       model  \n",
       "0   DecisionTreeClassifier()  \n",
       "1   DecisionTreeClassifier()  \n",
       "2   DecisionTreeClassifier()  \n",
       "3   DecisionTreeClassifier()  \n",
       "4   DecisionTreeClassifier()  \n",
       "5   DecisionTreeClassifier()  \n",
       "6   DecisionTreeClassifier()  \n",
       "7   DecisionTreeClassifier()  \n",
       "8   DecisionTreeClassifier()  \n",
       "9   DecisionTreeClassifier()  \n",
       "10  DecisionTreeClassifier()  \n",
       "11  DecisionTreeClassifier()  \n",
       "12  DecisionTreeClassifier()  \n",
       "13  DecisionTreeClassifier()  \n",
       "14  DecisionTreeClassifier()  \n",
       "15  DecisionTreeClassifier()  \n",
       "16  DecisionTreeClassifier()  \n",
       "17  DecisionTreeClassifier()  \n",
       "18  DecisionTreeClassifier()  \n",
       "19  DecisionTreeClassifier()  \n",
       "20  DecisionTreeClassifier()  \n",
       "21  DecisionTreeClassifier()  \n",
       "22  DecisionTreeClassifier()  \n",
       "23  DecisionTreeClassifier()  \n",
       "24  DecisionTreeClassifier()  \n",
       "25  DecisionTreeClassifier()  \n",
       "26  DecisionTreeClassifier()  \n",
       "27  DecisionTreeClassifier()  \n",
       "28  DecisionTreeClassifier()  \n",
       "29  DecisionTreeClassifier()  \n",
       "30  DecisionTreeClassifier()  \n",
       "31  DecisionTreeClassifier()  \n",
       "32  DecisionTreeClassifier()  \n",
       "33  DecisionTreeClassifier()  \n",
       "34  DecisionTreeClassifier()  "
      ]
     },
     "execution_count": 8,
     "metadata": {},
     "output_type": "execute_result"
    }
   ],
   "source": [
    "pps.predictors(data, \"impact\")"
   ]
  },
  {
   "cell_type": "markdown",
   "id": "2b414c50",
   "metadata": {},
   "source": [
    "# All About Impact Column"
   ]
  },
  {
   "cell_type": "code",
   "execution_count": 9,
   "id": "9f9695e8",
   "metadata": {
    "scrolled": true
   },
   "outputs": [
    {
     "data": {
      "text/plain": [
       "<AxesSubplot:xlabel='impact', ylabel='count'>"
      ]
     },
     "execution_count": 9,
     "metadata": {},
     "output_type": "execute_result"
    },
    {
     "data": {
      "image/png": "[encoded data removed]",
      "text/plain": [
       "<Figure size 432x288 with 1 Axes>"
      ]
     },
     "metadata": {
      "needs_background": "light"
     },
     "output_type": "display_data"
    }
   ],
   "source": [
    "import seaborn as sns\n",
    "sns.countplot(x='impact', data=data)"
   ]
  },
  {
   "cell_type": "code",
   "execution_count": 10,
   "id": "e8a210c3",
   "metadata": {},
   "outputs": [
    {
     "data": {
      "text/plain": [
       "<seaborn.axisgrid.FacetGrid at 0x15e09f691c0>"
      ]
     },
     "execution_count": 10,
     "metadata": {},
     "output_type": "execute_result"
    },
    {
     "data": {
      "image/png": "[encoded data removed]",
      "text/plain": [
       "<Figure size 360x360 with 1 Axes>"
      ]
     },
     "metadata": {
      "needs_background": "light"
     },
     "output_type": "display_data"
    }
   ],
   "source": [
    "sns.catplot(x=\"impact\", kind=\"count\", palette=\"ch:.25\", data=data)"
   ]
  },
  {
   "cell_type": "code",
   "execution_count": 11,
   "id": "6f6b14a6",
   "metadata": {
    "scrolled": true
   },
   "outputs": [
    {
     "data": {
      "text/html": [
       "<div>\n",
       "<style scoped>\n",
       "    .dataframe tbody tr th:only-of-type {\n",
       "        vertical-align: middle;\n",
       "    }\n",
       "\n",
       "    .dataframe tbody tr th {\n",
       "        vertical-align: top;\n",
       "    }\n",
       "\n",
       "    .dataframe thead th {\n",
       "        text-align: right;\n",
       "    }\n",
       "</style>\n",
       "<table border=\"1\" class=\"dataframe\">\n",
       "  <thead>\n",
       "    <tr style=\"text-align: right;\">\n",
       "      <th>urgency</th>\n",
       "      <th>1 - High</th>\n",
       "      <th>2 - Medium</th>\n",
       "      <th>3 - Low</th>\n",
       "    </tr>\n",
       "    <tr>\n",
       "      <th>impact</th>\n",
       "      <th></th>\n",
       "      <th></th>\n",
       "      <th></th>\n",
       "    </tr>\n",
       "  </thead>\n",
       "  <tbody>\n",
       "    <tr>\n",
       "      <th>1 - High</th>\n",
       "      <td>2258</td>\n",
       "      <td>1233</td>\n",
       "      <td>0</td>\n",
       "    </tr>\n",
       "    <tr>\n",
       "      <th>2 - Medium</th>\n",
       "      <td>1739</td>\n",
       "      <td>132429</td>\n",
       "      <td>167</td>\n",
       "    </tr>\n",
       "    <tr>\n",
       "      <th>3 - Low</th>\n",
       "      <td>23</td>\n",
       "      <td>432</td>\n",
       "      <td>3431</td>\n",
       "    </tr>\n",
       "  </tbody>\n",
       "</table>\n",
       "</div>"
      ],
      "text/plain": [
       "urgency     1 - High  2 - Medium  3 - Low\n",
       "impact                                   \n",
       "1 - High        2258        1233        0\n",
       "2 - Medium      1739      132429      167\n",
       "3 - Low           23         432     3431"
      ]
     },
     "execution_count": 11,
     "metadata": {},
     "output_type": "execute_result"
    }
   ],
   "source": [
    "pd.crosstab(data['impact'],data['urgency'])"
   ]
  },
  {
   "cell_type": "code",
   "execution_count": 12,
   "id": "e075722b",
   "metadata": {
    "scrolled": false
   },
   "outputs": [
    {
     "data": {
      "text/plain": [
       "<AxesSubplot:xlabel='impact'>"
      ]
     },
     "execution_count": 12,
     "metadata": {},
     "output_type": "execute_result"
    },
    {
     "data": {
      "image/png": "[encoded data removed]",
      "text/plain": [
       "<Figure size 432x288 with 1 Axes>"
      ]
     },
     "metadata": {
      "needs_background": "light"
     },
     "output_type": "display_data"
    }
   ],
   "source": [
    "IU=pd.crosstab(data['impact'],data['urgency'])\n",
    "IU.plot.bar(stacked=True)"
   ]
  },
  {
   "cell_type": "markdown",
   "id": "46ff5ab7",
   "metadata": {},
   "source": [
    "# All about Priority and its relation with impact"
   ]
  },
  {
   "cell_type": "code",
   "execution_count": 13,
   "id": "042e68bd",
   "metadata": {},
   "outputs": [
    {
     "data": {
      "text/plain": [
       "<AxesSubplot:xlabel='priority', ylabel='count'>"
      ]
     },
     "execution_count": 13,
     "metadata": {},
     "output_type": "execute_result"
    },
    {
     "data": {
      "image/png": "[encoded data removed]",
      "text/plain": [
       "<Figure size 432x288 with 1 Axes>"
      ]
     },
     "metadata": {
      "needs_background": "light"
     },
     "output_type": "display_data"
    }
   ],
   "source": [
    "import seaborn as sns\n",
    "sns.countplot(x='priority', data=data)"
   ]
  },
  {
   "cell_type": "code",
   "execution_count": 14,
   "id": "24d0b648",
   "metadata": {},
   "outputs": [
    {
     "data": {
      "text/html": [
       "<div>\n",
       "<style scoped>\n",
       "    .dataframe tbody tr th:only-of-type {\n",
       "        vertical-align: middle;\n",
       "    }\n",
       "\n",
       "    .dataframe tbody tr th {\n",
       "        vertical-align: top;\n",
       "    }\n",
       "\n",
       "    .dataframe thead th {\n",
       "        text-align: right;\n",
       "    }\n",
       "</style>\n",
       "<table border=\"1\" class=\"dataframe\">\n",
       "  <thead>\n",
       "    <tr style=\"text-align: right;\">\n",
       "      <th>priority</th>\n",
       "      <th>1 - Critical</th>\n",
       "      <th>2 - High</th>\n",
       "      <th>3 - Moderate</th>\n",
       "      <th>4 - Low</th>\n",
       "    </tr>\n",
       "    <tr>\n",
       "      <th>impact</th>\n",
       "      <th></th>\n",
       "      <th></th>\n",
       "      <th></th>\n",
       "      <th></th>\n",
       "    </tr>\n",
       "  </thead>\n",
       "  <tbody>\n",
       "    <tr>\n",
       "      <th>1 - High</th>\n",
       "      <td>2258</td>\n",
       "      <td>1233</td>\n",
       "      <td>0</td>\n",
       "      <td>0</td>\n",
       "    </tr>\n",
       "    <tr>\n",
       "      <th>2 - Medium</th>\n",
       "      <td>0</td>\n",
       "      <td>1739</td>\n",
       "      <td>132429</td>\n",
       "      <td>167</td>\n",
       "    </tr>\n",
       "    <tr>\n",
       "      <th>3 - Low</th>\n",
       "      <td>0</td>\n",
       "      <td>0</td>\n",
       "      <td>23</td>\n",
       "      <td>3863</td>\n",
       "    </tr>\n",
       "  </tbody>\n",
       "</table>\n",
       "</div>"
      ],
      "text/plain": [
       "priority    1 - Critical  2 - High  3 - Moderate  4 - Low\n",
       "impact                                                   \n",
       "1 - High            2258      1233             0        0\n",
       "2 - Medium             0      1739        132429      167\n",
       "3 - Low                0         0            23     3863"
      ]
     },
     "execution_count": 14,
     "metadata": {},
     "output_type": "execute_result"
    }
   ],
   "source": [
    "pd.crosstab(data['impact'],data['priority'])"
   ]
  },
  {
   "cell_type": "code",
   "execution_count": 15,
   "id": "3c9467e8",
   "metadata": {
    "scrolled": true
   },
   "outputs": [
    {
     "data": {
      "text/plain": [
       "<AxesSubplot:xlabel='impact'>"
      ]
     },
     "execution_count": 15,
     "metadata": {},
     "output_type": "execute_result"
    },
    {
     "data": {
      "image/png": "[encoded data removed]",
      "text/plain": [
       "<Figure size 432x288 with 1 Axes>"
      ]
     },
     "metadata": {
      "needs_background": "light"
     },
     "output_type": "display_data"
    }
   ],
   "source": [
    "IP=pd.crosstab(data['impact'],data['priority'])\n",
    "IP.plot.bar(stacked=True)"
   ]
  },
  {
   "cell_type": "markdown",
   "id": "28a40801",
   "metadata": {},
   "source": [
    "# All about incident_state"
   ]
  },
  {
   "cell_type": "code",
   "execution_count": 16,
   "id": "b86374da",
   "metadata": {},
   "outputs": [
    {
     "data": {
      "text/plain": [
       "<AxesSubplot:xlabel='incident_state', ylabel='count'>"
      ]
     },
     "execution_count": 16,
     "metadata": {},
     "output_type": "execute_result"
    },
    {
     "data": {
      "image/png": "[encoded data removed]",
      "text/plain": [
       "<Figure size 432x288 with 1 Axes>"
      ]
     },
     "metadata": {
      "needs_background": "light"
     },
     "output_type": "display_data"
    }
   ],
   "source": [
    "import seaborn as sns\n",
    "sns.countplot(x='incident_state', data=data)"
   ]
  },
  {
   "cell_type": "code",
   "execution_count": 17,
   "id": "2b073bbf",
   "metadata": {
    "scrolled": true
   },
   "outputs": [
    {
     "data": {
      "text/html": [
       "<div>\n",
       "<style scoped>\n",
       "    .dataframe tbody tr th:only-of-type {\n",
       "        vertical-align: middle;\n",
       "    }\n",
       "\n",
       "    .dataframe tbody tr th {\n",
       "        vertical-align: top;\n",
       "    }\n",
       "\n",
       "    .dataframe thead th {\n",
       "        text-align: right;\n",
       "    }\n",
       "</style>\n",
       "<table border=\"1\" class=\"dataframe\">\n",
       "  <thead>\n",
       "    <tr style=\"text-align: right;\">\n",
       "      <th>incident_state</th>\n",
       "      <th>-100</th>\n",
       "      <th>Active</th>\n",
       "      <th>Awaiting Evidence</th>\n",
       "      <th>Awaiting Problem</th>\n",
       "      <th>Awaiting User Info</th>\n",
       "      <th>Awaiting Vendor</th>\n",
       "      <th>Closed</th>\n",
       "      <th>New</th>\n",
       "      <th>Resolved</th>\n",
       "    </tr>\n",
       "    <tr>\n",
       "      <th>impact</th>\n",
       "      <th></th>\n",
       "      <th></th>\n",
       "      <th></th>\n",
       "      <th></th>\n",
       "      <th></th>\n",
       "      <th></th>\n",
       "      <th></th>\n",
       "      <th></th>\n",
       "      <th></th>\n",
       "    </tr>\n",
       "  </thead>\n",
       "  <tbody>\n",
       "    <tr>\n",
       "      <th>1 - High</th>\n",
       "      <td>0</td>\n",
       "      <td>960</td>\n",
       "      <td>4</td>\n",
       "      <td>32</td>\n",
       "      <td>235</td>\n",
       "      <td>24</td>\n",
       "      <td>422</td>\n",
       "      <td>1234</td>\n",
       "      <td>580</td>\n",
       "    </tr>\n",
       "    <tr>\n",
       "      <th>2 - Medium</th>\n",
       "      <td>5</td>\n",
       "      <td>36744</td>\n",
       "      <td>32</td>\n",
       "      <td>390</td>\n",
       "      <td>13932</td>\n",
       "      <td>679</td>\n",
       "      <td>23809</td>\n",
       "      <td>34320</td>\n",
       "      <td>24424</td>\n",
       "    </tr>\n",
       "    <tr>\n",
       "      <th>3 - Low</th>\n",
       "      <td>0</td>\n",
       "      <td>1012</td>\n",
       "      <td>2</td>\n",
       "      <td>39</td>\n",
       "      <td>475</td>\n",
       "      <td>4</td>\n",
       "      <td>754</td>\n",
       "      <td>853</td>\n",
       "      <td>747</td>\n",
       "    </tr>\n",
       "  </tbody>\n",
       "</table>\n",
       "</div>"
      ],
      "text/plain": [
       "incident_state  -100  Active  Awaiting Evidence  Awaiting Problem  \\\n",
       "impact                                                              \n",
       "1 - High           0     960                  4                32   \n",
       "2 - Medium         5   36744                 32               390   \n",
       "3 - Low            0    1012                  2                39   \n",
       "\n",
       "incident_state  Awaiting User Info  Awaiting Vendor  Closed    New  Resolved  \n",
       "impact                                                                        \n",
       "1 - High                       235               24     422   1234       580  \n",
       "2 - Medium                   13932              679   23809  34320     24424  \n",
       "3 - Low                        475                4     754    853       747  "
      ]
     },
     "execution_count": 17,
     "metadata": {},
     "output_type": "execute_result"
    }
   ],
   "source": [
    "pd.crosstab(data['impact'],data['incident_state'])"
   ]
  },
  {
   "cell_type": "code",
   "execution_count": 18,
   "id": "979bd5f0",
   "metadata": {
    "scrolled": true
   },
   "outputs": [
    {
     "data": {
      "text/plain": [
       "<AxesSubplot:xlabel='impact'>"
      ]
     },
     "execution_count": 18,
     "metadata": {},
     "output_type": "execute_result"
    },
    {
     "data": {
      "image/png": "[encoded data removed]",
      "text/plain": [
       "<Figure size 432x288 with 1 Axes>"
      ]
     },
     "metadata": {
      "needs_background": "light"
     },
     "output_type": "display_data"
    }
   ],
   "source": [
    "II=pd.crosstab(data['impact'],data['incident_state'])\n",
    "II.plot.bar(stacked=True)"
   ]
  },
  {
   "cell_type": "code",
   "execution_count": 19,
   "id": "443c79cb",
   "metadata": {
    "scrolled": false
   },
   "outputs": [
    {
     "data": {
      "text/html": [
       "<div>\n",
       "<style scoped>\n",
       "    .dataframe tbody tr th:only-of-type {\n",
       "        vertical-align: middle;\n",
       "    }\n",
       "\n",
       "    .dataframe tbody tr th {\n",
       "        vertical-align: top;\n",
       "    }\n",
       "\n",
       "    .dataframe thead th {\n",
       "        text-align: right;\n",
       "    }\n",
       "</style>\n",
       "<table border=\"1\" class=\"dataframe\">\n",
       "  <thead>\n",
       "    <tr style=\"text-align: right;\">\n",
       "      <th>resolved_at</th>\n",
       "      <th>01-01-2017 01:17</th>\n",
       "      <th>01-01-2017 02:16</th>\n",
       "      <th>01-01-2017 02:17</th>\n",
       "      <th>01-01-2017 02:24</th>\n",
       "      <th>01-02-2017 07:57</th>\n",
       "      <th>01-02-2017 08:25</th>\n",
       "      <th>01-02-2017 08:38</th>\n",
       "      <th>01-02-2017 09:28</th>\n",
       "      <th>01-02-2017 09:56</th>\n",
       "      <th>01-02-2017 11:00</th>\n",
       "      <th>...</th>\n",
       "      <th>31-10-2016 15:54</th>\n",
       "      <th>31-10-2016 15:56</th>\n",
       "      <th>31-10-2016 15:57</th>\n",
       "      <th>31-10-2016 15:58</th>\n",
       "      <th>31-10-2016 16:56</th>\n",
       "      <th>31-10-2016 16:58</th>\n",
       "      <th>31-10-2016 17:26</th>\n",
       "      <th>31-10-2016 17:51</th>\n",
       "      <th>31-10-2016 18:06</th>\n",
       "      <th>?</th>\n",
       "    </tr>\n",
       "    <tr>\n",
       "      <th>impact</th>\n",
       "      <th></th>\n",
       "      <th></th>\n",
       "      <th></th>\n",
       "      <th></th>\n",
       "      <th></th>\n",
       "      <th></th>\n",
       "      <th></th>\n",
       "      <th></th>\n",
       "      <th></th>\n",
       "      <th></th>\n",
       "      <th></th>\n",
       "      <th></th>\n",
       "      <th></th>\n",
       "      <th></th>\n",
       "      <th></th>\n",
       "      <th></th>\n",
       "      <th></th>\n",
       "      <th></th>\n",
       "      <th></th>\n",
       "      <th></th>\n",
       "      <th></th>\n",
       "    </tr>\n",
       "  </thead>\n",
       "  <tbody>\n",
       "    <tr>\n",
       "      <th>1 - High</th>\n",
       "      <td>0</td>\n",
       "      <td>0</td>\n",
       "      <td>3</td>\n",
       "      <td>0</td>\n",
       "      <td>0</td>\n",
       "      <td>0</td>\n",
       "      <td>0</td>\n",
       "      <td>0</td>\n",
       "      <td>0</td>\n",
       "      <td>0</td>\n",
       "      <td>...</td>\n",
       "      <td>0</td>\n",
       "      <td>0</td>\n",
       "      <td>0</td>\n",
       "      <td>0</td>\n",
       "      <td>0</td>\n",
       "      <td>0</td>\n",
       "      <td>0</td>\n",
       "      <td>0</td>\n",
       "      <td>0</td>\n",
       "      <td>0</td>\n",
       "    </tr>\n",
       "    <tr>\n",
       "      <th>2 - Medium</th>\n",
       "      <td>3</td>\n",
       "      <td>3</td>\n",
       "      <td>1</td>\n",
       "      <td>3</td>\n",
       "      <td>3</td>\n",
       "      <td>3</td>\n",
       "      <td>3</td>\n",
       "      <td>3</td>\n",
       "      <td>3</td>\n",
       "      <td>3</td>\n",
       "      <td>...</td>\n",
       "      <td>10</td>\n",
       "      <td>14</td>\n",
       "      <td>8</td>\n",
       "      <td>10</td>\n",
       "      <td>9</td>\n",
       "      <td>9</td>\n",
       "      <td>11</td>\n",
       "      <td>3</td>\n",
       "      <td>13</td>\n",
       "      <td>2941</td>\n",
       "    </tr>\n",
       "    <tr>\n",
       "      <th>3 - Low</th>\n",
       "      <td>0</td>\n",
       "      <td>0</td>\n",
       "      <td>0</td>\n",
       "      <td>0</td>\n",
       "      <td>0</td>\n",
       "      <td>0</td>\n",
       "      <td>0</td>\n",
       "      <td>0</td>\n",
       "      <td>0</td>\n",
       "      <td>0</td>\n",
       "      <td>...</td>\n",
       "      <td>0</td>\n",
       "      <td>0</td>\n",
       "      <td>0</td>\n",
       "      <td>0</td>\n",
       "      <td>0</td>\n",
       "      <td>0</td>\n",
       "      <td>0</td>\n",
       "      <td>0</td>\n",
       "      <td>0</td>\n",
       "      <td>200</td>\n",
       "    </tr>\n",
       "  </tbody>\n",
       "</table>\n",
       "<p>3 rows × 18506 columns</p>\n",
       "</div>"
      ],
      "text/plain": [
       "resolved_at  01-01-2017 01:17  01-01-2017 02:16  01-01-2017 02:17  \\\n",
       "impact                                                              \n",
       "1 - High                    0                 0                 3   \n",
       "2 - Medium                  3                 3                 1   \n",
       "3 - Low                     0                 0                 0   \n",
       "\n",
       "resolved_at  01-01-2017 02:24  01-02-2017 07:57  01-02-2017 08:25  \\\n",
       "impact                                                              \n",
       "1 - High                    0                 0                 0   \n",
       "2 - Medium                  3                 3                 3   \n",
       "3 - Low                     0                 0                 0   \n",
       "\n",
       "resolved_at  01-02-2017 08:38  01-02-2017 09:28  01-02-2017 09:56  \\\n",
       "impact                                                              \n",
       "1 - High                    0                 0                 0   \n",
       "2 - Medium                  3                 3                 3   \n",
       "3 - Low                     0                 0                 0   \n",
       "\n",
       "resolved_at  01-02-2017 11:00  ...  31-10-2016 15:54  31-10-2016 15:56  \\\n",
       "impact                         ...                                       \n",
       "1 - High                    0  ...                 0                 0   \n",
       "2 - Medium                  3  ...                10                14   \n",
       "3 - Low                     0  ...                 0                 0   \n",
       "\n",
       "resolved_at  31-10-2016 15:57  31-10-2016 15:58  31-10-2016 16:56  \\\n",
       "impact                                                              \n",
       "1 - High                    0                 0                 0   \n",
       "2 - Medium                  8                10                 9   \n",
       "3 - Low                     0                 0                 0   \n",
       "\n",
       "resolved_at  31-10-2016 16:58  31-10-2016 17:26  31-10-2016 17:51  \\\n",
       "impact                                                              \n",
       "1 - High                    0                 0                 0   \n",
       "2 - Medium                  9                11                 3   \n",
       "3 - Low                     0                 0                 0   \n",
       "\n",
       "resolved_at  31-10-2016 18:06     ?  \n",
       "impact                               \n",
       "1 - High                    0     0  \n",
       "2 - Medium                 13  2941  \n",
       "3 - Low                     0   200  \n",
       "\n",
       "[3 rows x 18506 columns]"
      ]
     },
     "execution_count": 19,
     "metadata": {},
     "output_type": "execute_result"
    }
   ],
   "source": [
    "pd.crosstab(data['impact'],data['resolved_at'])"
   ]
  },
  {
   "cell_type": "code",
   "execution_count": 20,
   "id": "bf0cdbf1",
   "metadata": {},
   "outputs": [
    {
     "data": {
      "text/html": [
       "<div>\n",
       "<style scoped>\n",
       "    .dataframe tbody tr th:only-of-type {\n",
       "        vertical-align: middle;\n",
       "    }\n",
       "\n",
       "    .dataframe tbody tr th {\n",
       "        vertical-align: top;\n",
       "    }\n",
       "\n",
       "    .dataframe thead th {\n",
       "        text-align: right;\n",
       "    }\n",
       "</style>\n",
       "<table border=\"1\" class=\"dataframe\">\n",
       "  <thead>\n",
       "    <tr style=\"text-align: right;\">\n",
       "      <th>impact</th>\n",
       "      <th>1 - High</th>\n",
       "      <th>2 - Medium</th>\n",
       "      <th>3 - Low</th>\n",
       "    </tr>\n",
       "    <tr>\n",
       "      <th>closed_at</th>\n",
       "      <th></th>\n",
       "      <th></th>\n",
       "      <th></th>\n",
       "    </tr>\n",
       "  </thead>\n",
       "  <tbody>\n",
       "    <tr>\n",
       "      <th>01-02-2017 09:00</th>\n",
       "      <td>0</td>\n",
       "      <td>7</td>\n",
       "      <td>0</td>\n",
       "    </tr>\n",
       "    <tr>\n",
       "      <th>01-02-2017 09:07</th>\n",
       "      <td>0</td>\n",
       "      <td>9</td>\n",
       "      <td>0</td>\n",
       "    </tr>\n",
       "    <tr>\n",
       "      <th>01-02-2017 17:00</th>\n",
       "      <td>0</td>\n",
       "      <td>3</td>\n",
       "      <td>0</td>\n",
       "    </tr>\n",
       "    <tr>\n",
       "      <th>01-04-2016 00:59</th>\n",
       "      <td>0</td>\n",
       "      <td>8</td>\n",
       "      <td>0</td>\n",
       "    </tr>\n",
       "    <tr>\n",
       "      <th>01-04-2016 01:59</th>\n",
       "      <td>0</td>\n",
       "      <td>3</td>\n",
       "      <td>0</td>\n",
       "    </tr>\n",
       "    <tr>\n",
       "      <th>...</th>\n",
       "      <td>...</td>\n",
       "      <td>...</td>\n",
       "      <td>...</td>\n",
       "    </tr>\n",
       "    <tr>\n",
       "      <th>31-07-2016 12:07</th>\n",
       "      <td>0</td>\n",
       "      <td>5</td>\n",
       "      <td>0</td>\n",
       "    </tr>\n",
       "    <tr>\n",
       "      <th>31-07-2016 14:00</th>\n",
       "      <td>0</td>\n",
       "      <td>43</td>\n",
       "      <td>0</td>\n",
       "    </tr>\n",
       "    <tr>\n",
       "      <th>31-08-2016 09:00</th>\n",
       "      <td>0</td>\n",
       "      <td>11</td>\n",
       "      <td>0</td>\n",
       "    </tr>\n",
       "    <tr>\n",
       "      <th>31-10-2016 10:00</th>\n",
       "      <td>0</td>\n",
       "      <td>20</td>\n",
       "      <td>0</td>\n",
       "    </tr>\n",
       "    <tr>\n",
       "      <th>31-12-2016 11:00</th>\n",
       "      <td>0</td>\n",
       "      <td>17</td>\n",
       "      <td>0</td>\n",
       "    </tr>\n",
       "  </tbody>\n",
       "</table>\n",
       "<p>2707 rows × 3 columns</p>\n",
       "</div>"
      ],
      "text/plain": [
       "impact            1 - High  2 - Medium  3 - Low\n",
       "closed_at                                      \n",
       "01-02-2017 09:00         0           7        0\n",
       "01-02-2017 09:07         0           9        0\n",
       "01-02-2017 17:00         0           3        0\n",
       "01-04-2016 00:59         0           8        0\n",
       "01-04-2016 01:59         0           3        0\n",
       "...                    ...         ...      ...\n",
       "31-07-2016 12:07         0           5        0\n",
       "31-07-2016 14:00         0          43        0\n",
       "31-08-2016 09:00         0          11        0\n",
       "31-10-2016 10:00         0          20        0\n",
       "31-12-2016 11:00         0          17        0\n",
       "\n",
       "[2707 rows x 3 columns]"
      ]
     },
     "execution_count": 20,
     "metadata": {},
     "output_type": "execute_result"
    }
   ],
   "source": [
    "pd.crosstab(data['closed_at'],data['impact'])"
   ]
  },
  {
   "cell_type": "code",
   "execution_count": 21,
   "id": "6d6388e4",
   "metadata": {},
   "outputs": [],
   "source": [
    "import pandas as pd\n",
    "import numpy as np\n",
    "import matplotlib.pyplot as plt\n",
    "from statsmodels.graphics.mosaicplot import mosaic\n",
    "from itertools import product"
   ]
  },
  {
   "cell_type": "code",
   "execution_count": 22,
   "id": "e37cc08e",
   "metadata": {},
   "outputs": [
    {
     "data": {
      "text/plain": [
       "(<Figure size 432x288 with 3 Axes>,\n",
       " {('2 - Medium', '2 - Medium'): (0.0,\n",
       "   0.0,\n",
       "   0.938558135479349,\n",
       "   0.9792830368479314),\n",
       "  ('2 - Medium', '3 - Low'): (0.0,\n",
       "   0.9825942951260771,\n",
       "   0.938558135479349,\n",
       "   0.001234927902148342),\n",
       "  ('2 - Medium', '1 - High'): (0.0,\n",
       "   0.9871404813063712,\n",
       "   0.938558135479349,\n",
       "   0.012859518693628681),\n",
       "  ('1 - High', '2 - Medium'): (0.9435086305288539,\n",
       "   0.0,\n",
       "   0.024390564268123742,\n",
       "   0.3508548946107398),\n",
       "  ('1 - High', '3 - Low'): (0.9435086305288539,\n",
       "   0.35416615288888553,\n",
       "   0.024390564268123742,\n",
       "   0.0),\n",
       "  ('1 - High', '1 - High'): (0.9435086305288539,\n",
       "   0.3574774111670312,\n",
       "   0.024390564268123742,\n",
       "   0.6425225888329688),\n",
       "  ('3 - Low', '2 - Medium'): (0.9728496898464826,\n",
       "   0.0,\n",
       "   0.027150310153517376,\n",
       "   0.11043208256502371),\n",
       "  ('3 - Low', '3 - Low'): (0.9728496898464826,\n",
       "   0.11374334084316941,\n",
       "   0.027150310153517376,\n",
       "   0.8770659150013804),\n",
       "  ('3 - Low', '1 - High'): (0.9728496898464826,\n",
       "   0.9941205141226955,\n",
       "   0.027150310153517376,\n",
       "   0.005879485877304493)})"
      ]
     },
     "execution_count": 22,
     "metadata": {},
     "output_type": "execute_result"
    },
    {
     "data": {
      "image/png": "[encoded data removed]",
      "text/plain": [
       "<Figure size 432x288 with 3 Axes>"
      ]
     },
     "metadata": {
      "needs_background": "light"
     },
     "output_type": "display_data"
    }
   ],
   "source": [
    "mosaic(data,['impact','urgency'])"
   ]
  },
  {
   "cell_type": "code",
   "execution_count": 23,
   "id": "26972f73",
   "metadata": {
    "scrolled": false
   },
   "outputs": [
    {
     "data": {
      "image/png": "[encoded data removed]",
      "text/plain": [
       "<Figure size 432x288 with 1 Axes>"
      ]
     },
     "metadata": {
      "needs_background": "light"
     },
     "output_type": "display_data"
    }
   ],
   "source": [
    "pf=pd.crosstab(data.reopen_count,data.incident_state)\n",
    "pf\n",
    "pf.plot.bar(stacked=True)\n",
    "plt.show()"
   ]
  },
  {
   "cell_type": "code",
   "execution_count": 24,
   "id": "9d3fa799",
   "metadata": {
    "scrolled": true
   },
   "outputs": [
    {
     "name": "stdout",
     "output_type": "stream",
     "text": [
      "<class 'pandas.core.frame.DataFrame'>\n",
      "RangeIndex: 141712 entries, 0 to 141711\n",
      "Data columns (total 36 columns):\n",
      " #   Column                   Non-Null Count   Dtype   \n",
      "---  ------                   --------------   -----   \n",
      " 0   number                   141712 non-null  category\n",
      " 1   incident_state           141712 non-null  category\n",
      " 2   active                   141712 non-null  bool    \n",
      " 3   reassignment_count       141712 non-null  int64   \n",
      " 4   reopen_count             141712 non-null  int64   \n",
      " 5   sys_mod_count            141712 non-null  int64   \n",
      " 6   made_sla                 141712 non-null  bool    \n",
      " 7   caller_id                141712 non-null  category\n",
      " 8   opened_by                141712 non-null  category\n",
      " 9   opened_at                141712 non-null  category\n",
      " 10  sys_created_by           141712 non-null  category\n",
      " 11  sys_created_at           141712 non-null  category\n",
      " 12  sys_updated_by           141712 non-null  category\n",
      " 13  sys_updated_at           141712 non-null  category\n",
      " 14  contact_type             141712 non-null  category\n",
      " 15  location                 141712 non-null  category\n",
      " 16  category                 141712 non-null  category\n",
      " 17  subcategory              141712 non-null  category\n",
      " 18  u_symptom                141712 non-null  category\n",
      " 19  cmd                      141712 non-null  category\n",
      " 20  impact                   141712 non-null  category\n",
      " 21  urgency                  141712 non-null  category\n",
      " 22  priority                 141712 non-null  category\n",
      " 23  assignment_group         141712 non-null  category\n",
      " 24  assigned_to              141712 non-null  category\n",
      " 25  knowledge                141712 non-null  bool    \n",
      " 26  u_priority_confirmation  141712 non-null  bool    \n",
      " 27  notify                   141712 non-null  category\n",
      " 28  problem_id               141712 non-null  category\n",
      " 29  rfc                      141712 non-null  category\n",
      " 30  vendor                   141712 non-null  category\n",
      " 31  caused_by                141712 non-null  category\n",
      " 32  closed_code              141712 non-null  category\n",
      " 33  resolved_by              141712 non-null  category\n",
      " 34  resolved_at              141712 non-null  category\n",
      " 35  closed_at                141712 non-null  category\n",
      "dtypes: bool(4), category(29), int64(3)\n",
      "memory usage: 15.4 MB\n"
     ]
    }
   ],
   "source": [
    "data.info()"
   ]
  },
  {
   "cell_type": "markdown",
   "id": "69d5a999",
   "metadata": {},
   "source": [
    "# Int64 VS Int 64"
   ]
  },
  {
   "cell_type": "code",
   "execution_count": 25,
   "id": "b9d54991",
   "metadata": {
    "scrolled": false
   },
   "outputs": [
    {
     "data": {
      "text/plain": [
       "<AxesSubplot:xlabel='reopen_count', ylabel='reassignment_count'>"
      ]
     },
     "execution_count": 25,
     "metadata": {},
     "output_type": "execute_result"
    },
    {
     "data": {
      "image/png": "[encoded data removed]",
      "text/plain": [
       "<Figure size 432x288 with 1 Axes>"
      ]
     },
     "metadata": {
      "needs_background": "light"
     },
     "output_type": "display_data"
    }
   ],
   "source": [
    "sns.barplot(x ='reopen_count', y ='reassignment_count', data = data)"
   ]
  },
  {
   "cell_type": "markdown",
   "id": "5cc192b8",
   "metadata": {},
   "source": [
    "# Int64 VS Bool"
   ]
  },
  {
   "cell_type": "code",
   "execution_count": 26,
   "id": "3f9c887d",
   "metadata": {
    "scrolled": true
   },
   "outputs": [
    {
     "data": {
      "text/plain": [
       "<AxesSubplot:xlabel='sys_mod_count', ylabel='made_sla'>"
      ]
     },
     "execution_count": 26,
     "metadata": {},
     "output_type": "execute_result"
    },
    {
     "data": {
      "image/png": "[encoded data removed]",
      "text/plain": [
       "<Figure size 432x288 with 1 Axes>"
      ]
     },
     "metadata": {
      "needs_background": "light"
     },
     "output_type": "display_data"
    }
   ],
   "source": [
    "sns.barplot(x ='sys_mod_count', y ='made_sla', data = data)"
   ]
  },
  {
   "cell_type": "markdown",
   "id": "41825fd4",
   "metadata": {},
   "source": [
    "# Category vs int64"
   ]
  },
  {
   "cell_type": "code",
   "execution_count": 27,
   "id": "a59498c8",
   "metadata": {
    "scrolled": true
   },
   "outputs": [
    {
     "data": {
      "text/plain": [
       "<AxesSubplot:xlabel='incident_state', ylabel='reopen_count'>"
      ]
     },
     "execution_count": 27,
     "metadata": {},
     "output_type": "execute_result"
    },
    {
     "data": {
      "image/png": "[encoded data removed]",
      "text/plain": [
       "<Figure size 432x288 with 1 Axes>"
      ]
     },
     "metadata": {
      "needs_background": "light"
     },
     "output_type": "display_data"
    }
   ],
   "source": [
    "sns.barplot(x ='incident_state', y ='reopen_count', data = data)"
   ]
  },
  {
   "cell_type": "markdown",
   "id": "070f39be",
   "metadata": {},
   "source": [
    "# Category vs bool"
   ]
  },
  {
   "cell_type": "code",
   "execution_count": 28,
   "id": "02834abb",
   "metadata": {
    "scrolled": true
   },
   "outputs": [
    {
     "data": {
      "text/plain": [
       "<AxesSubplot:xlabel='incident_state', ylabel='active'>"
      ]
     },
     "execution_count": 28,
     "metadata": {},
     "output_type": "execute_result"
    },
    {
     "data": {
      "image/png": "[encoded data removed]",
      "text/plain": [
       "<Figure size 432x288 with 1 Axes>"
      ]
     },
     "metadata": {
      "needs_background": "light"
     },
     "output_type": "display_data"
    }
   ],
   "source": [
    "sns.barplot(x ='incident_state', y ='active', data = data)"
   ]
  },
  {
   "cell_type": "markdown",
   "id": "2d1b3400",
   "metadata": {},
   "source": [
    "# Removal of Null values "
   ]
  },
  {
   "cell_type": "code",
   "execution_count": 29,
   "id": "0f03c918",
   "metadata": {},
   "outputs": [],
   "source": [
    "data.replace('?', np.nan, inplace=True)"
   ]
  },
  {
   "cell_type": "markdown",
   "id": "1ce8957e",
   "metadata": {},
   "source": [
    "# Checking for null values"
   ]
  },
  {
   "cell_type": "code",
   "execution_count": 30,
   "id": "86a5cb6b",
   "metadata": {
    "scrolled": true
   },
   "outputs": [
    {
     "data": {
      "text/plain": [
       "number                          0\n",
       "incident_state                  0\n",
       "active                          0\n",
       "reassignment_count              0\n",
       "reopen_count                    0\n",
       "sys_mod_count                   0\n",
       "made_sla                        0\n",
       "caller_id                      29\n",
       "opened_by                    4835\n",
       "opened_at                       0\n",
       "sys_created_by              53076\n",
       "sys_created_at              53076\n",
       "sys_updated_by                  0\n",
       "sys_updated_at                  0\n",
       "contact_type                    0\n",
       "location                       76\n",
       "category                       78\n",
       "subcategory                   111\n",
       "u_symptom                   32964\n",
       "cmd                        141267\n",
       "impact                          0\n",
       "urgency                         0\n",
       "priority                        0\n",
       "assignment_group            14213\n",
       "assigned_to                 27496\n",
       "knowledge                       0\n",
       "u_priority_confirmation         0\n",
       "notify                          0\n",
       "problem_id                 139417\n",
       "rfc                        140721\n",
       "vendor                     141468\n",
       "caused_by                  141689\n",
       "closed_code                   714\n",
       "resolved_by                   226\n",
       "resolved_at                  3141\n",
       "closed_at                       0\n",
       "dtype: int64"
      ]
     },
     "execution_count": 30,
     "metadata": {},
     "output_type": "execute_result"
    }
   ],
   "source": [
    "data.isna().sum()"
   ]
  },
  {
   "cell_type": "code",
   "execution_count": 31,
   "id": "7e168ed8",
   "metadata": {},
   "outputs": [
    {
     "data": {
      "text/plain": [
       "<AxesSubplot:>"
      ]
     },
     "execution_count": 31,
     "metadata": {},
     "output_type": "execute_result"
    },
    {
     "data": {
      "image/png": "[encoded data removed]",
      "text/plain": [
       "<Figure size 1728x720 with 3 Axes>"
      ]
     },
     "metadata": {
      "needs_background": "light"
     },
     "output_type": "display_data"
    }
   ],
   "source": [
    "import missingno as msno\n",
    "msno.bar(data)"
   ]
  },
  {
   "cell_type": "markdown",
   "id": "25e69b32",
   "metadata": {},
   "source": [
    "# Percentage of null values in each column"
   ]
  },
  {
   "cell_type": "code",
   "execution_count": 32,
   "id": "b58b5fa4",
   "metadata": {},
   "outputs": [
    {
     "name": "stdout",
     "output_type": "stream",
     "text": [
      "PERCENTAGE OF MISSING VALUES\n"
     ]
    },
    {
     "data": {
      "text/plain": [
       "number                      0.000000\n",
       "incident_state              0.000000\n",
       "active                      0.000000\n",
       "reassignment_count          0.000000\n",
       "reopen_count                0.000000\n",
       "sys_mod_count               0.000000\n",
       "made_sla                    0.000000\n",
       "caller_id                   0.020464\n",
       "opened_by                   3.411849\n",
       "opened_at                   0.000000\n",
       "sys_created_by             37.453427\n",
       "sys_created_at             37.453427\n",
       "sys_updated_by              0.000000\n",
       "sys_updated_at              0.000000\n",
       "contact_type                0.000000\n",
       "location                    0.053630\n",
       "category                    0.055041\n",
       "subcategory                 0.078328\n",
       "u_symptom                  23.261262\n",
       "cmd                        99.685983\n",
       "impact                      0.000000\n",
       "urgency                     0.000000\n",
       "priority                    0.000000\n",
       "assignment_group           10.029496\n",
       "assigned_to                19.402732\n",
       "knowledge                   0.000000\n",
       "u_priority_confirmation     0.000000\n",
       "notify                      0.000000\n",
       "problem_id                 98.380518\n",
       "rfc                        99.300694\n",
       "vendor                     99.827820\n",
       "caused_by                  99.983770\n",
       "closed_code                 0.503839\n",
       "resolved_by                 0.159478\n",
       "resolved_at                 2.216467\n",
       "closed_at                   0.000000\n",
       "dtype: float64"
      ]
     },
     "execution_count": 32,
     "metadata": {},
     "output_type": "execute_result"
    }
   ],
   "source": [
    "data_percentage=print('percentage of missing values'.upper())\n",
    "data.isna().sum()/data.shape[0]*100"
   ]
  },
  {
   "cell_type": "code",
   "execution_count": 33,
   "id": "a7156d2d",
   "metadata": {},
   "outputs": [],
   "source": [
    "# Dropping Clomns with more than 90% missing values and also System created Id is a repetitive data"
   ]
  },
  {
   "cell_type": "code",
   "execution_count": 34,
   "id": "a3675da2",
   "metadata": {},
   "outputs": [],
   "source": [
    "drop = ['caller_id','sys_created_by','sys_created_at','contact_type','cmd','u_symptom','assignment_group','assigned_to','knowledge','u_priority_confirmation','caused_by', 'rfc', 'vendor','notify','problem_id']\n",
    "data.drop(drop,axis=1,inplace=True)"
   ]
  },
  {
   "cell_type": "code",
   "execution_count": 35,
   "id": "2c7e0282",
   "metadata": {
    "scrolled": true
   },
   "outputs": [
    {
     "name": "stdout",
     "output_type": "stream",
     "text": [
      "<class 'pandas.core.frame.DataFrame'>\n",
      "RangeIndex: 141712 entries, 0 to 141711\n",
      "Data columns (total 21 columns):\n",
      " #   Column              Non-Null Count   Dtype   \n",
      "---  ------              --------------   -----   \n",
      " 0   number              141712 non-null  category\n",
      " 1   incident_state      141712 non-null  category\n",
      " 2   active              141712 non-null  bool    \n",
      " 3   reassignment_count  141712 non-null  int64   \n",
      " 4   reopen_count        141712 non-null  int64   \n",
      " 5   sys_mod_count       141712 non-null  int64   \n",
      " 6   made_sla            141712 non-null  bool    \n",
      " 7   opened_by           136877 non-null  category\n",
      " 8   opened_at           141712 non-null  category\n",
      " 9   sys_updated_by      141712 non-null  category\n",
      " 10  sys_updated_at      141712 non-null  category\n",
      " 11  location            141636 non-null  category\n",
      " 12  category            141634 non-null  category\n",
      " 13  subcategory         141601 non-null  category\n",
      " 14  impact              141712 non-null  category\n",
      " 15  urgency             141712 non-null  category\n",
      " 16  priority            141712 non-null  category\n",
      " 17  closed_code         140998 non-null  category\n",
      " 18  resolved_by         141486 non-null  category\n",
      " 19  resolved_at         138571 non-null  category\n",
      " 20  closed_at           141712 non-null  category\n",
      "dtypes: bool(2), category(16), int64(3)\n",
      "memory usage: 11.9 MB\n"
     ]
    }
   ],
   "source": [
    "data.info()"
   ]
  },
  {
   "cell_type": "markdown",
   "id": "2b52b354",
   "metadata": {},
   "source": [
    "# Checking for null values"
   ]
  },
  {
   "cell_type": "code",
   "execution_count": 36,
   "id": "e8853974",
   "metadata": {
    "scrolled": false
   },
   "outputs": [
    {
     "data": {
      "text/plain": [
       "number                   0\n",
       "incident_state           0\n",
       "active                   0\n",
       "reassignment_count       0\n",
       "reopen_count             0\n",
       "sys_mod_count            0\n",
       "made_sla                 0\n",
       "opened_by             4835\n",
       "opened_at                0\n",
       "sys_updated_by           0\n",
       "sys_updated_at           0\n",
       "location                76\n",
       "category                78\n",
       "subcategory            111\n",
       "impact                   0\n",
       "urgency                  0\n",
       "priority                 0\n",
       "closed_code            714\n",
       "resolved_by            226\n",
       "resolved_at           3141\n",
       "closed_at                0\n",
       "dtype: int64"
      ]
     },
     "execution_count": 36,
     "metadata": {},
     "output_type": "execute_result"
    }
   ],
   "source": [
    "data.isna().sum()"
   ]
  },
  {
   "cell_type": "code",
   "execution_count": 37,
   "id": "897b09a6",
   "metadata": {},
   "outputs": [],
   "source": [
    "cateogry_columns=data.select_dtypes(include=['category']).columns.tolist()\n",
    "integer_columns=data.select_dtypes(include=['bool']).columns.tolist()\n",
    "\n",
    "for column in data:\n",
    "    if data[column].isnull().any():\n",
    "        if(column in cateogry_columns):\n",
    "            data[column]=data[column].fillna(data[column].mode()[0])\n",
    "        else:\n",
    "            data[column]=df[column].fillna(data[column].mean)"
   ]
  },
  {
   "cell_type": "code",
   "execution_count": 38,
   "id": "fca5d9b4",
   "metadata": {},
   "outputs": [
    {
     "data": {
      "text/plain": [
       "number                0\n",
       "incident_state        0\n",
       "active                0\n",
       "reassignment_count    0\n",
       "reopen_count          0\n",
       "sys_mod_count         0\n",
       "made_sla              0\n",
       "opened_by             0\n",
       "opened_at             0\n",
       "sys_updated_by        0\n",
       "sys_updated_at        0\n",
       "location              0\n",
       "category              0\n",
       "subcategory           0\n",
       "impact                0\n",
       "urgency               0\n",
       "priority              0\n",
       "closed_code           0\n",
       "resolved_by           0\n",
       "resolved_at           0\n",
       "closed_at             0\n",
       "dtype: int64"
      ]
     },
     "execution_count": 38,
     "metadata": {},
     "output_type": "execute_result"
    }
   ],
   "source": [
    "data.isna().sum()"
   ]
  },
  {
   "cell_type": "code",
   "execution_count": 39,
   "id": "c89ef735",
   "metadata": {
    "scrolled": true
   },
   "outputs": [
    {
     "name": "stdout",
     "output_type": "stream",
     "text": [
      "<class 'pandas.core.frame.DataFrame'>\n",
      "RangeIndex: 141712 entries, 0 to 141711\n",
      "Data columns (total 21 columns):\n",
      " #   Column              Non-Null Count   Dtype   \n",
      "---  ------              --------------   -----   \n",
      " 0   number              141712 non-null  category\n",
      " 1   incident_state      141712 non-null  category\n",
      " 2   active              141712 non-null  bool    \n",
      " 3   reassignment_count  141712 non-null  int64   \n",
      " 4   reopen_count        141712 non-null  int64   \n",
      " 5   sys_mod_count       141712 non-null  int64   \n",
      " 6   made_sla            141712 non-null  bool    \n",
      " 7   opened_by           141712 non-null  category\n",
      " 8   opened_at           141712 non-null  category\n",
      " 9   sys_updated_by      141712 non-null  category\n",
      " 10  sys_updated_at      141712 non-null  category\n",
      " 11  location            141712 non-null  category\n",
      " 12  category            141712 non-null  category\n",
      " 13  subcategory         141712 non-null  category\n",
      " 14  impact              141712 non-null  category\n",
      " 15  urgency             141712 non-null  category\n",
      " 16  priority            141712 non-null  category\n",
      " 17  closed_code         141712 non-null  category\n",
      " 18  resolved_by         141712 non-null  category\n",
      " 19  resolved_at         141712 non-null  category\n",
      " 20  closed_at           141712 non-null  category\n",
      "dtypes: bool(2), category(16), int64(3)\n",
      "memory usage: 11.9 MB\n"
     ]
    }
   ],
   "source": [
    "data.info()"
   ]
  },
  {
   "cell_type": "code",
   "execution_count": 40,
   "id": "0843f05b",
   "metadata": {},
   "outputs": [],
   "source": [
    "from sklearn.preprocessing import LabelEncoder\n",
    "label = LabelEncoder()\n",
    "data['number']=label.fit_transform(data.number)\n",
    "data['incident_state']=label.fit_transform(data.incident_state)\n",
    "data['active']=label.fit_transform(data.active)\n",
    "data['made_sla']=label.fit_transform(data.made_sla)\n",
    "data['opened_by']=label.fit_transform(data.opened_by)\n",
    "data['location']=label.fit_transform(data.location)\n",
    "data['category']=label.fit_transform(data.category)\n",
    "data['subcategory']=label.fit_transform(data.subcategory)\n",
    "\n",
    "\n",
    "\n",
    "data['closed_code']=label.fit_transform(data.closed_code)\n",
    "data['resolved_by']=label.fit_transform(data.resolved_by)\n",
    "data['reassignment_count']=label.fit_transform(data.reassignment_count)\n",
    "data['reopen_count']=label.fit_transform(data.reopen_count)\n",
    "data['sys_mod_count']=label.fit_transform(data.sys_mod_count)\n",
    "\n",
    "data['opened_at']=label.fit_transform(data.opened_at)\n",
    "\n",
    "\n",
    "data['sys_updated_by']=label.fit_transform(data.sys_updated_by)\n",
    "data['sys_updated_at']=label.fit_transform(data.sys_updated_at)\n",
    "\n",
    "\n",
    "data['impact']=label.fit_transform(data.impact)\n",
    "data['urgency']=label.fit_transform(data.urgency)\n",
    "data['priority']=label.fit_transform(data.priority)\n",
    "\n",
    "\n",
    "\n",
    "data['resolved_at']=label.fit_transform(data.resolved_at)\n",
    "data['closed_at']=label.fit_transform(data.closed_at)"
   ]
  },
  {
   "cell_type": "code",
   "execution_count": 41,
   "id": "f77a185b",
   "metadata": {
    "scrolled": true
   },
   "outputs": [
    {
     "data": {
      "text/html": [
       "<div>\n",
       "<style scoped>\n",
       "    .dataframe tbody tr th:only-of-type {\n",
       "        vertical-align: middle;\n",
       "    }\n",
       "\n",
       "    .dataframe tbody tr th {\n",
       "        vertical-align: top;\n",
       "    }\n",
       "\n",
       "    .dataframe thead th {\n",
       "        text-align: right;\n",
       "    }\n",
       "</style>\n",
       "<table border=\"1\" class=\"dataframe\">\n",
       "  <thead>\n",
       "    <tr style=\"text-align: right;\">\n",
       "      <th></th>\n",
       "      <th>number</th>\n",
       "      <th>incident_state</th>\n",
       "      <th>active</th>\n",
       "      <th>reassignment_count</th>\n",
       "      <th>reopen_count</th>\n",
       "      <th>sys_mod_count</th>\n",
       "      <th>made_sla</th>\n",
       "      <th>opened_by</th>\n",
       "      <th>opened_at</th>\n",
       "      <th>sys_updated_by</th>\n",
       "      <th>...</th>\n",
       "      <th>location</th>\n",
       "      <th>category</th>\n",
       "      <th>subcategory</th>\n",
       "      <th>impact</th>\n",
       "      <th>urgency</th>\n",
       "      <th>priority</th>\n",
       "      <th>closed_code</th>\n",
       "      <th>resolved_by</th>\n",
       "      <th>resolved_at</th>\n",
       "      <th>closed_at</th>\n",
       "    </tr>\n",
       "  </thead>\n",
       "  <tbody>\n",
       "    <tr>\n",
       "      <th>141692</th>\n",
       "      <td>24912</td>\n",
       "      <td>6</td>\n",
       "      <td>0</td>\n",
       "      <td>0</td>\n",
       "      <td>0</td>\n",
       "      <td>1</td>\n",
       "      <td>1</td>\n",
       "      <td>169</td>\n",
       "      <td>9601</td>\n",
       "      <td>786</td>\n",
       "      <td>...</td>\n",
       "      <td>148</td>\n",
       "      <td>41</td>\n",
       "      <td>0</td>\n",
       "      <td>2</td>\n",
       "      <td>1</td>\n",
       "      <td>3</td>\n",
       "      <td>13</td>\n",
       "      <td>52</td>\n",
       "      <td>1781</td>\n",
       "      <td>1303</td>\n",
       "    </tr>\n",
       "    <tr>\n",
       "      <th>141693</th>\n",
       "      <td>24913</td>\n",
       "      <td>1</td>\n",
       "      <td>1</td>\n",
       "      <td>0</td>\n",
       "      <td>0</td>\n",
       "      <td>0</td>\n",
       "      <td>1</td>\n",
       "      <td>200</td>\n",
       "      <td>9602</td>\n",
       "      <td>762</td>\n",
       "      <td>...</td>\n",
       "      <td>87</td>\n",
       "      <td>43</td>\n",
       "      <td>76</td>\n",
       "      <td>1</td>\n",
       "      <td>1</td>\n",
       "      <td>2</td>\n",
       "      <td>13</td>\n",
       "      <td>166</td>\n",
       "      <td>10024</td>\n",
       "      <td>1476</td>\n",
       "    </tr>\n",
       "    <tr>\n",
       "      <th>141694</th>\n",
       "      <td>24913</td>\n",
       "      <td>8</td>\n",
       "      <td>1</td>\n",
       "      <td>0</td>\n",
       "      <td>0</td>\n",
       "      <td>1</td>\n",
       "      <td>1</td>\n",
       "      <td>200</td>\n",
       "      <td>9602</td>\n",
       "      <td>104</td>\n",
       "      <td>...</td>\n",
       "      <td>87</td>\n",
       "      <td>43</td>\n",
       "      <td>76</td>\n",
       "      <td>1</td>\n",
       "      <td>1</td>\n",
       "      <td>2</td>\n",
       "      <td>13</td>\n",
       "      <td>166</td>\n",
       "      <td>10024</td>\n",
       "      <td>1476</td>\n",
       "    </tr>\n",
       "    <tr>\n",
       "      <th>141695</th>\n",
       "      <td>24913</td>\n",
       "      <td>6</td>\n",
       "      <td>0</td>\n",
       "      <td>0</td>\n",
       "      <td>0</td>\n",
       "      <td>2</td>\n",
       "      <td>1</td>\n",
       "      <td>200</td>\n",
       "      <td>9602</td>\n",
       "      <td>104</td>\n",
       "      <td>...</td>\n",
       "      <td>87</td>\n",
       "      <td>43</td>\n",
       "      <td>76</td>\n",
       "      <td>1</td>\n",
       "      <td>1</td>\n",
       "      <td>2</td>\n",
       "      <td>13</td>\n",
       "      <td>166</td>\n",
       "      <td>10024</td>\n",
       "      <td>1476</td>\n",
       "    </tr>\n",
       "    <tr>\n",
       "      <th>141696</th>\n",
       "      <td>24914</td>\n",
       "      <td>7</td>\n",
       "      <td>1</td>\n",
       "      <td>0</td>\n",
       "      <td>0</td>\n",
       "      <td>0</td>\n",
       "      <td>1</td>\n",
       "      <td>169</td>\n",
       "      <td>9603</td>\n",
       "      <td>762</td>\n",
       "      <td>...</td>\n",
       "      <td>148</td>\n",
       "      <td>41</td>\n",
       "      <td>0</td>\n",
       "      <td>2</td>\n",
       "      <td>1</td>\n",
       "      <td>3</td>\n",
       "      <td>13</td>\n",
       "      <td>52</td>\n",
       "      <td>1781</td>\n",
       "      <td>1305</td>\n",
       "    </tr>\n",
       "    <tr>\n",
       "      <th>141697</th>\n",
       "      <td>24914</td>\n",
       "      <td>6</td>\n",
       "      <td>0</td>\n",
       "      <td>0</td>\n",
       "      <td>0</td>\n",
       "      <td>1</td>\n",
       "      <td>1</td>\n",
       "      <td>169</td>\n",
       "      <td>9603</td>\n",
       "      <td>786</td>\n",
       "      <td>...</td>\n",
       "      <td>148</td>\n",
       "      <td>41</td>\n",
       "      <td>0</td>\n",
       "      <td>2</td>\n",
       "      <td>1</td>\n",
       "      <td>3</td>\n",
       "      <td>13</td>\n",
       "      <td>52</td>\n",
       "      <td>1781</td>\n",
       "      <td>1305</td>\n",
       "    </tr>\n",
       "    <tr>\n",
       "      <th>141698</th>\n",
       "      <td>24915</td>\n",
       "      <td>7</td>\n",
       "      <td>1</td>\n",
       "      <td>0</td>\n",
       "      <td>0</td>\n",
       "      <td>0</td>\n",
       "      <td>1</td>\n",
       "      <td>15</td>\n",
       "      <td>9604</td>\n",
       "      <td>762</td>\n",
       "      <td>...</td>\n",
       "      <td>35</td>\n",
       "      <td>50</td>\n",
       "      <td>108</td>\n",
       "      <td>1</td>\n",
       "      <td>1</td>\n",
       "      <td>2</td>\n",
       "      <td>13</td>\n",
       "      <td>52</td>\n",
       "      <td>1781</td>\n",
       "      <td>1389</td>\n",
       "    </tr>\n",
       "    <tr>\n",
       "      <th>141699</th>\n",
       "      <td>24915</td>\n",
       "      <td>1</td>\n",
       "      <td>1</td>\n",
       "      <td>0</td>\n",
       "      <td>0</td>\n",
       "      <td>1</td>\n",
       "      <td>1</td>\n",
       "      <td>15</td>\n",
       "      <td>9604</td>\n",
       "      <td>411</td>\n",
       "      <td>...</td>\n",
       "      <td>35</td>\n",
       "      <td>50</td>\n",
       "      <td>108</td>\n",
       "      <td>1</td>\n",
       "      <td>1</td>\n",
       "      <td>2</td>\n",
       "      <td>13</td>\n",
       "      <td>52</td>\n",
       "      <td>1781</td>\n",
       "      <td>1389</td>\n",
       "    </tr>\n",
       "    <tr>\n",
       "      <th>141700</th>\n",
       "      <td>24915</td>\n",
       "      <td>1</td>\n",
       "      <td>1</td>\n",
       "      <td>1</td>\n",
       "      <td>0</td>\n",
       "      <td>2</td>\n",
       "      <td>1</td>\n",
       "      <td>15</td>\n",
       "      <td>9604</td>\n",
       "      <td>558</td>\n",
       "      <td>...</td>\n",
       "      <td>35</td>\n",
       "      <td>50</td>\n",
       "      <td>108</td>\n",
       "      <td>1</td>\n",
       "      <td>1</td>\n",
       "      <td>2</td>\n",
       "      <td>13</td>\n",
       "      <td>52</td>\n",
       "      <td>1781</td>\n",
       "      <td>1389</td>\n",
       "    </tr>\n",
       "    <tr>\n",
       "      <th>141701</th>\n",
       "      <td>24915</td>\n",
       "      <td>1</td>\n",
       "      <td>1</td>\n",
       "      <td>1</td>\n",
       "      <td>0</td>\n",
       "      <td>3</td>\n",
       "      <td>1</td>\n",
       "      <td>15</td>\n",
       "      <td>9604</td>\n",
       "      <td>697</td>\n",
       "      <td>...</td>\n",
       "      <td>35</td>\n",
       "      <td>50</td>\n",
       "      <td>108</td>\n",
       "      <td>1</td>\n",
       "      <td>1</td>\n",
       "      <td>2</td>\n",
       "      <td>13</td>\n",
       "      <td>52</td>\n",
       "      <td>1781</td>\n",
       "      <td>1389</td>\n",
       "    </tr>\n",
       "    <tr>\n",
       "      <th>141702</th>\n",
       "      <td>24915</td>\n",
       "      <td>4</td>\n",
       "      <td>1</td>\n",
       "      <td>1</td>\n",
       "      <td>0</td>\n",
       "      <td>4</td>\n",
       "      <td>1</td>\n",
       "      <td>15</td>\n",
       "      <td>9604</td>\n",
       "      <td>697</td>\n",
       "      <td>...</td>\n",
       "      <td>35</td>\n",
       "      <td>50</td>\n",
       "      <td>108</td>\n",
       "      <td>1</td>\n",
       "      <td>1</td>\n",
       "      <td>2</td>\n",
       "      <td>13</td>\n",
       "      <td>52</td>\n",
       "      <td>1781</td>\n",
       "      <td>1389</td>\n",
       "    </tr>\n",
       "    <tr>\n",
       "      <th>141703</th>\n",
       "      <td>24915</td>\n",
       "      <td>6</td>\n",
       "      <td>0</td>\n",
       "      <td>1</td>\n",
       "      <td>0</td>\n",
       "      <td>5</td>\n",
       "      <td>1</td>\n",
       "      <td>15</td>\n",
       "      <td>9604</td>\n",
       "      <td>697</td>\n",
       "      <td>...</td>\n",
       "      <td>35</td>\n",
       "      <td>50</td>\n",
       "      <td>108</td>\n",
       "      <td>1</td>\n",
       "      <td>1</td>\n",
       "      <td>2</td>\n",
       "      <td>13</td>\n",
       "      <td>52</td>\n",
       "      <td>1781</td>\n",
       "      <td>1389</td>\n",
       "    </tr>\n",
       "    <tr>\n",
       "      <th>141704</th>\n",
       "      <td>24916</td>\n",
       "      <td>1</td>\n",
       "      <td>1</td>\n",
       "      <td>0</td>\n",
       "      <td>0</td>\n",
       "      <td>0</td>\n",
       "      <td>1</td>\n",
       "      <td>9</td>\n",
       "      <td>10251</td>\n",
       "      <td>762</td>\n",
       "      <td>...</td>\n",
       "      <td>104</td>\n",
       "      <td>32</td>\n",
       "      <td>120</td>\n",
       "      <td>1</td>\n",
       "      <td>1</td>\n",
       "      <td>2</td>\n",
       "      <td>16</td>\n",
       "      <td>205</td>\n",
       "      <td>9422</td>\n",
       "      <td>1390</td>\n",
       "    </tr>\n",
       "    <tr>\n",
       "      <th>141705</th>\n",
       "      <td>24916</td>\n",
       "      <td>1</td>\n",
       "      <td>1</td>\n",
       "      <td>1</td>\n",
       "      <td>0</td>\n",
       "      <td>1</td>\n",
       "      <td>1</td>\n",
       "      <td>9</td>\n",
       "      <td>10251</td>\n",
       "      <td>160</td>\n",
       "      <td>...</td>\n",
       "      <td>104</td>\n",
       "      <td>32</td>\n",
       "      <td>120</td>\n",
       "      <td>1</td>\n",
       "      <td>1</td>\n",
       "      <td>2</td>\n",
       "      <td>16</td>\n",
       "      <td>205</td>\n",
       "      <td>9422</td>\n",
       "      <td>1390</td>\n",
       "    </tr>\n",
       "    <tr>\n",
       "      <th>141706</th>\n",
       "      <td>24916</td>\n",
       "      <td>8</td>\n",
       "      <td>1</td>\n",
       "      <td>1</td>\n",
       "      <td>0</td>\n",
       "      <td>3</td>\n",
       "      <td>1</td>\n",
       "      <td>9</td>\n",
       "      <td>10251</td>\n",
       "      <td>160</td>\n",
       "      <td>...</td>\n",
       "      <td>104</td>\n",
       "      <td>32</td>\n",
       "      <td>120</td>\n",
       "      <td>1</td>\n",
       "      <td>1</td>\n",
       "      <td>2</td>\n",
       "      <td>16</td>\n",
       "      <td>205</td>\n",
       "      <td>9422</td>\n",
       "      <td>1390</td>\n",
       "    </tr>\n",
       "    <tr>\n",
       "      <th>141707</th>\n",
       "      <td>24916</td>\n",
       "      <td>6</td>\n",
       "      <td>0</td>\n",
       "      <td>1</td>\n",
       "      <td>0</td>\n",
       "      <td>4</td>\n",
       "      <td>1</td>\n",
       "      <td>9</td>\n",
       "      <td>10251</td>\n",
       "      <td>160</td>\n",
       "      <td>...</td>\n",
       "      <td>104</td>\n",
       "      <td>32</td>\n",
       "      <td>120</td>\n",
       "      <td>1</td>\n",
       "      <td>1</td>\n",
       "      <td>2</td>\n",
       "      <td>16</td>\n",
       "      <td>205</td>\n",
       "      <td>9422</td>\n",
       "      <td>1390</td>\n",
       "    </tr>\n",
       "    <tr>\n",
       "      <th>141708</th>\n",
       "      <td>24917</td>\n",
       "      <td>1</td>\n",
       "      <td>1</td>\n",
       "      <td>0</td>\n",
       "      <td>0</td>\n",
       "      <td>0</td>\n",
       "      <td>1</td>\n",
       "      <td>9</td>\n",
       "      <td>10252</td>\n",
       "      <td>762</td>\n",
       "      <td>...</td>\n",
       "      <td>104</td>\n",
       "      <td>32</td>\n",
       "      <td>120</td>\n",
       "      <td>1</td>\n",
       "      <td>1</td>\n",
       "      <td>2</td>\n",
       "      <td>13</td>\n",
       "      <td>205</td>\n",
       "      <td>9423</td>\n",
       "      <td>1391</td>\n",
       "    </tr>\n",
       "    <tr>\n",
       "      <th>141709</th>\n",
       "      <td>24917</td>\n",
       "      <td>1</td>\n",
       "      <td>1</td>\n",
       "      <td>1</td>\n",
       "      <td>0</td>\n",
       "      <td>1</td>\n",
       "      <td>1</td>\n",
       "      <td>9</td>\n",
       "      <td>10252</td>\n",
       "      <td>468</td>\n",
       "      <td>...</td>\n",
       "      <td>104</td>\n",
       "      <td>32</td>\n",
       "      <td>120</td>\n",
       "      <td>1</td>\n",
       "      <td>1</td>\n",
       "      <td>2</td>\n",
       "      <td>13</td>\n",
       "      <td>205</td>\n",
       "      <td>9423</td>\n",
       "      <td>1391</td>\n",
       "    </tr>\n",
       "    <tr>\n",
       "      <th>141710</th>\n",
       "      <td>24917</td>\n",
       "      <td>8</td>\n",
       "      <td>1</td>\n",
       "      <td>1</td>\n",
       "      <td>0</td>\n",
       "      <td>2</td>\n",
       "      <td>1</td>\n",
       "      <td>9</td>\n",
       "      <td>10252</td>\n",
       "      <td>160</td>\n",
       "      <td>...</td>\n",
       "      <td>104</td>\n",
       "      <td>32</td>\n",
       "      <td>120</td>\n",
       "      <td>1</td>\n",
       "      <td>1</td>\n",
       "      <td>2</td>\n",
       "      <td>13</td>\n",
       "      <td>205</td>\n",
       "      <td>9423</td>\n",
       "      <td>1391</td>\n",
       "    </tr>\n",
       "    <tr>\n",
       "      <th>141711</th>\n",
       "      <td>24917</td>\n",
       "      <td>6</td>\n",
       "      <td>0</td>\n",
       "      <td>1</td>\n",
       "      <td>0</td>\n",
       "      <td>3</td>\n",
       "      <td>1</td>\n",
       "      <td>9</td>\n",
       "      <td>10252</td>\n",
       "      <td>160</td>\n",
       "      <td>...</td>\n",
       "      <td>104</td>\n",
       "      <td>32</td>\n",
       "      <td>120</td>\n",
       "      <td>1</td>\n",
       "      <td>1</td>\n",
       "      <td>2</td>\n",
       "      <td>13</td>\n",
       "      <td>205</td>\n",
       "      <td>9423</td>\n",
       "      <td>1391</td>\n",
       "    </tr>\n",
       "  </tbody>\n",
       "</table>\n",
       "<p>20 rows × 21 columns</p>\n",
       "</div>"
      ],
      "text/plain": [
       "        number  incident_state  active  reassignment_count  reopen_count  \\\n",
       "141692   24912               6       0                   0             0   \n",
       "141693   24913               1       1                   0             0   \n",
       "141694   24913               8       1                   0             0   \n",
       "141695   24913               6       0                   0             0   \n",
       "141696   24914               7       1                   0             0   \n",
       "141697   24914               6       0                   0             0   \n",
       "141698   24915               7       1                   0             0   \n",
       "141699   24915               1       1                   0             0   \n",
       "141700   24915               1       1                   1             0   \n",
       "141701   24915               1       1                   1             0   \n",
       "141702   24915               4       1                   1             0   \n",
       "141703   24915               6       0                   1             0   \n",
       "141704   24916               1       1                   0             0   \n",
       "141705   24916               1       1                   1             0   \n",
       "141706   24916               8       1                   1             0   \n",
       "141707   24916               6       0                   1             0   \n",
       "141708   24917               1       1                   0             0   \n",
       "141709   24917               1       1                   1             0   \n",
       "141710   24917               8       1                   1             0   \n",
       "141711   24917               6       0                   1             0   \n",
       "\n",
       "        sys_mod_count  made_sla  opened_by  opened_at  sys_updated_by  ...  \\\n",
       "141692              1         1        169       9601             786  ...   \n",
       "141693              0         1        200       9602             762  ...   \n",
       "141694              1         1        200       9602             104  ...   \n",
       "141695              2         1        200       9602             104  ...   \n",
       "141696              0         1        169       9603             762  ...   \n",
       "141697              1         1        169       9603             786  ...   \n",
       "141698              0         1         15       9604             762  ...   \n",
       "141699              1         1         15       9604             411  ...   \n",
       "141700              2         1         15       9604             558  ...   \n",
       "141701              3         1         15       9604             697  ...   \n",
       "141702              4         1         15       9604             697  ...   \n",
       "141703              5         1         15       9604             697  ...   \n",
       "141704              0         1          9      10251             762  ...   \n",
       "141705              1         1          9      10251             160  ...   \n",
       "141706              3         1          9      10251             160  ...   \n",
       "141707              4         1          9      10251             160  ...   \n",
       "141708              0         1          9      10252             762  ...   \n",
       "141709              1         1          9      10252             468  ...   \n",
       "141710              2         1          9      10252             160  ...   \n",
       "141711              3         1          9      10252             160  ...   \n",
       "\n",
       "        location  category  subcategory  impact  urgency  priority  \\\n",
       "141692       148        41            0       2        1         3   \n",
       "141693        87        43           76       1        1         2   \n",
       "141694        87        43           76       1        1         2   \n",
       "141695        87        43           76       1        1         2   \n",
       "141696       148        41            0       2        1         3   \n",
       "141697       148        41            0       2        1         3   \n",
       "141698        35        50          108       1        1         2   \n",
       "141699        35        50          108       1        1         2   \n",
       "141700        35        50          108       1        1         2   \n",
       "141701        35        50          108       1        1         2   \n",
       "141702        35        50          108       1        1         2   \n",
       "141703        35        50          108       1        1         2   \n",
       "141704       104        32          120       1        1         2   \n",
       "141705       104        32          120       1        1         2   \n",
       "141706       104        32          120       1        1         2   \n",
       "141707       104        32          120       1        1         2   \n",
       "141708       104        32          120       1        1         2   \n",
       "141709       104        32          120       1        1         2   \n",
       "141710       104        32          120       1        1         2   \n",
       "141711       104        32          120       1        1         2   \n",
       "\n",
       "        closed_code  resolved_by  resolved_at  closed_at  \n",
       "141692           13           52         1781       1303  \n",
       "141693           13          166        10024       1476  \n",
       "141694           13          166        10024       1476  \n",
       "141695           13          166        10024       1476  \n",
       "141696           13           52         1781       1305  \n",
       "141697           13           52         1781       1305  \n",
       "141698           13           52         1781       1389  \n",
       "141699           13           52         1781       1389  \n",
       "141700           13           52         1781       1389  \n",
       "141701           13           52         1781       1389  \n",
       "141702           13           52         1781       1389  \n",
       "141703           13           52         1781       1389  \n",
       "141704           16          205         9422       1390  \n",
       "141705           16          205         9422       1390  \n",
       "141706           16          205         9422       1390  \n",
       "141707           16          205         9422       1390  \n",
       "141708           13          205         9423       1391  \n",
       "141709           13          205         9423       1391  \n",
       "141710           13          205         9423       1391  \n",
       "141711           13          205         9423       1391  \n",
       "\n",
       "[20 rows x 21 columns]"
      ]
     },
     "execution_count": 41,
     "metadata": {},
     "output_type": "execute_result"
    }
   ],
   "source": [
    "data.tail(20)"
   ]
  },
  {
   "cell_type": "code",
   "execution_count": 42,
   "id": "e1040795",
   "metadata": {},
   "outputs": [
    {
     "name": "stdout",
     "output_type": "stream",
     "text": [
      "<class 'pandas.core.frame.DataFrame'>\n",
      "RangeIndex: 141712 entries, 0 to 141711\n",
      "Data columns (total 21 columns):\n",
      " #   Column              Non-Null Count   Dtype\n",
      "---  ------              --------------   -----\n",
      " 0   number              141712 non-null  int32\n",
      " 1   incident_state      141712 non-null  int32\n",
      " 2   active              141712 non-null  int64\n",
      " 3   reassignment_count  141712 non-null  int64\n",
      " 4   reopen_count        141712 non-null  int64\n",
      " 5   sys_mod_count       141712 non-null  int64\n",
      " 6   made_sla            141712 non-null  int64\n",
      " 7   opened_by           141712 non-null  int32\n",
      " 8   opened_at           141712 non-null  int32\n",
      " 9   sys_updated_by      141712 non-null  int32\n",
      " 10  sys_updated_at      141712 non-null  int32\n",
      " 11  location            141712 non-null  int32\n",
      " 12  category            141712 non-null  int32\n",
      " 13  subcategory         141712 non-null  int32\n",
      " 14  impact              141712 non-null  int32\n",
      " 15  urgency             141712 non-null  int32\n",
      " 16  priority            141712 non-null  int32\n",
      " 17  closed_code         141712 non-null  int32\n",
      " 18  resolved_by         141712 non-null  int32\n",
      " 19  resolved_at         141712 non-null  int32\n",
      " 20  closed_at           141712 non-null  int32\n",
      "dtypes: int32(16), int64(5)\n",
      "memory usage: 14.1 MB\n"
     ]
    }
   ],
   "source": [
    "data.info()"
   ]
  },
  {
   "cell_type": "markdown",
   "id": "21ea3be5",
   "metadata": {},
   "source": [
    "# balancing the dataset"
   ]
  },
  {
   "cell_type": "code",
   "execution_count": 43,
   "id": "25e891a6",
   "metadata": {},
   "outputs": [],
   "source": [
    "from collections import Counter\n",
    "from sklearn.datasets import make_classification\n",
    "from imblearn.over_sampling import SMOTE"
   ]
  },
  {
   "cell_type": "code",
   "execution_count": 44,
   "id": "347d06d2",
   "metadata": {},
   "outputs": [],
   "source": [
    "X= data.iloc[:,data.columns!='impact']\n",
    "y =data.impact"
   ]
  },
  {
   "cell_type": "code",
   "execution_count": 45,
   "id": "8afbf2b0",
   "metadata": {},
   "outputs": [
    {
     "name": "stdout",
     "output_type": "stream",
     "text": [
      "Original dataset shape Counter({1: 134335, 2: 3886, 0: 3491})\n"
     ]
    }
   ],
   "source": [
    "print('Original dataset shape {}'.format(Counter(y)))"
   ]
  },
  {
   "cell_type": "code",
   "execution_count": 46,
   "id": "32c031c9",
   "metadata": {},
   "outputs": [],
   "source": [
    "smt = SMOTE(random_state= 42)"
   ]
  },
  {
   "cell_type": "markdown",
   "id": "4a195bb3",
   "metadata": {},
   "source": [
    "# Splitting the dataset"
   ]
  },
  {
   "cell_type": "code",
   "execution_count": 47,
   "id": "dca64ddd",
   "metadata": {},
   "outputs": [],
   "source": [
    "from fast_ml.model_development import train_valid_test_split\n",
    "\n",
    "X_train, y_train, X_valid, y_valid, X_test, y_test = train_valid_test_split(data, target ='impact', train_size=0.8, valid_size=0.1, test_size=0.1)"
   ]
  },
  {
   "cell_type": "code",
   "execution_count": 48,
   "id": "0ae1458d",
   "metadata": {},
   "outputs": [],
   "source": [
    "from sklearn.model_selection import train_test_split"
   ]
  },
  {
   "cell_type": "code",
   "execution_count": 49,
   "id": "0599c41e",
   "metadata": {},
   "outputs": [],
   "source": [
    "X_train_1,X_test_1,y_train_1,y_test_1 = train_test_split(X_train,y_train,test_size=0.2, random_state=42)"
   ]
  },
  {
   "cell_type": "code",
   "execution_count": 50,
   "id": "5d164122",
   "metadata": {},
   "outputs": [
    {
     "name": "stdout",
     "output_type": "stream",
     "text": [
      "(113369, 20)\n",
      "(113369,)\n",
      "(90695, 20)\n",
      "(90695,)\n",
      "(14172, 20)\n",
      "(14172,)\n",
      "(14171, 20)\n",
      "(14171,)\n"
     ]
    },
    {
     "data": {
      "text/plain": [
       "(None, None)"
      ]
     },
     "execution_count": 50,
     "metadata": {},
     "output_type": "execute_result"
    }
   ],
   "source": [
    "print(X_train.shape), print(y_train.shape)\n",
    "print(X_train_1.shape), print(y_train_1.shape)\n",
    "print(X_test.shape), print(y_test.shape)\n",
    "print (X_valid.shape), print(y_valid.shape)"
   ]
  },
  {
   "cell_type": "code",
   "execution_count": 51,
   "id": "2b50668d",
   "metadata": {
    "scrolled": true
   },
   "outputs": [],
   "source": [
    "X_res, y_res = smt.fit_resample(X_train_1, y_train_1)"
   ]
  },
  {
   "cell_type": "code",
   "execution_count": 52,
   "id": "d72e3abc",
   "metadata": {
    "scrolled": true
   },
   "outputs": [
    {
     "name": "stdout",
     "output_type": "stream",
     "text": [
      "Class=2, n=85939 (33.333%)\n"
     ]
    },
    {
     "data": {
      "image/png": "[encoded data removed]",
      "text/plain": [
       "<Figure size 432x288 with 1 Axes>"
      ]
     },
     "metadata": {
      "needs_background": "light"
     },
     "output_type": "display_data"
    }
   ],
   "source": [
    "# summarize distribution\n",
    "counter = Counter(y_res)\n",
    "for k,v in counter.items():\n",
    "    per = v / len(y_res) * 100\n",
    "print('Class=%d, n=%d (%.3f%%)' % (k, v, per))\n",
    "# plot the distribution\n",
    "plt.bar(counter.keys(), counter.values())\n",
    "plt.show()"
   ]
  },
  {
   "cell_type": "code",
   "execution_count": 53,
   "id": "61328b5b",
   "metadata": {
    "scrolled": false
   },
   "outputs": [
    {
     "data": {
      "text/plain": [
       "<AxesSubplot:>"
      ]
     },
     "execution_count": 53,
     "metadata": {},
     "output_type": "execute_result"
    },
    {
     "data": {
      "image/png": "[encoded data removed]",
      "text/plain": [
       "<Figure size 1728x720 with 3 Axes>"
      ]
     },
     "metadata": {
      "needs_background": "light"
     },
     "output_type": "display_data"
    }
   ],
   "source": [
    "msno.bar(X_res)"
   ]
  },
  {
   "cell_type": "code",
   "execution_count": 54,
   "id": "8d7d53c2",
   "metadata": {},
   "outputs": [
    {
     "data": {
      "text/plain": [
       "<seaborn.axisgrid.FacetGrid at 0x15e07f669d0>"
      ]
     },
     "execution_count": 54,
     "metadata": {},
     "output_type": "execute_result"
    },
    {
     "data": {
      "image/png": "[encoded data removed]",
      "text/plain": [
       "<Figure size 360x360 with 1 Axes>"
      ]
     },
     "metadata": {
      "needs_background": "light"
     },
     "output_type": "display_data"
    }
   ],
   "source": [
    "sns.catplot(x=y_res, kind=\"count\", palette=\"ch:.25\", data=data)"
   ]
  },
  {
   "cell_type": "markdown",
   "id": "2d230caf",
   "metadata": {},
   "source": [
    "# Feature selection on balanced data"
   ]
  },
  {
   "cell_type": "code",
   "execution_count": 55,
   "id": "d963d3fc",
   "metadata": {},
   "outputs": [],
   "source": [
    "import sklearn\n",
    "from sklearn.feature_selection import SelectKBest\n",
    "from sklearn.feature_selection import chi2"
   ]
  },
  {
   "cell_type": "markdown",
   "id": "230fe62f",
   "metadata": {},
   "source": [
    "# Feature Selection:- Using Chi square "
   ]
  },
  {
   "cell_type": "code",
   "execution_count": 56,
   "id": "819094db",
   "metadata": {
    "scrolled": false
   },
   "outputs": [
    {
     "name": "stdout",
     "output_type": "stream",
     "text": [
      "[4.94332454e+07 1.82350925e+02 2.82898426e+02 5.69945894e+03\n",
      " 1.79940702e+03 1.14440999e+04 4.84920360e+02 1.19089754e+06\n",
      " 1.58878165e+07 2.11125897e+05 1.30749673e+07 6.58193453e+03\n",
      " 1.29594870e+03 3.17116579e+04 1.04491066e+05 1.91712618e+05\n",
      " 9.78696770e+02 1.04107051e+05 6.14857491e+06 5.43465733e+05]\n"
     ]
    }
   ],
   "source": [
    "test = SelectKBest(score_func=chi2, k=20)\n",
    "fit = test.fit(X_res, y_res)\n",
    "# summarize scores\n",
    "#set_printoptions(precision=3)\n",
    "print(fit.scores_)\n",
    "features = fit.transform(X_res)"
   ]
  },
  {
   "cell_type": "code",
   "execution_count": 57,
   "id": "e943d746",
   "metadata": {},
   "outputs": [],
   "source": [
    "X_new=test.fit_transform(X_res, y_res)"
   ]
  },
  {
   "cell_type": "code",
   "execution_count": 58,
   "id": "3cdeaef5",
   "metadata": {
    "scrolled": true
   },
   "outputs": [
    {
     "data": {
      "text/plain": [
       "(257817, 20)"
      ]
     },
     "execution_count": 58,
     "metadata": {},
     "output_type": "execute_result"
    }
   ],
   "source": [
    "X_new.shape"
   ]
  },
  {
   "cell_type": "code",
   "execution_count": 59,
   "id": "d43c78a1",
   "metadata": {},
   "outputs": [],
   "source": [
    "features=np.array([5.28536993e+07 ,6.36200867e+02, 3.25402711e+02, 7.72880067e+03\n",
    ", 1.33119476e+03, 1.72260860e+04, 5.02038367e+02, 1.17949711e+06,\n",
    " 1.40113564e+07 ,1.69089462e+05, 9.51394545e+06, 1.46041410e+04,\n",
    " 7.60480909e+02 ,3.93255145e+04 ,1.05345261e+05 ,1.91918191e+05,\n",
    " 1.02783361e+03 ,9.19763868e+04 ,5.03129542e+06 ,7.00300960e+05])"
   ]
  },
  {
   "cell_type": "code",
   "execution_count": 60,
   "id": "1cdf7a99",
   "metadata": {},
   "outputs": [],
   "source": [
    "features=pd.DataFrame(features)"
   ]
  },
  {
   "cell_type": "code",
   "execution_count": 61,
   "id": "8454de3c",
   "metadata": {
    "scrolled": true
   },
   "outputs": [
    {
     "data": {
      "text/plain": [
       "<AxesSubplot:>"
      ]
     },
     "execution_count": 61,
     "metadata": {},
     "output_type": "execute_result"
    },
    {
     "data": {
      "image/png": "[encoded data removed]",
      "text/plain": [
       "<Figure size 432x288 with 1 Axes>"
      ]
     },
     "metadata": {
      "needs_background": "light"
     },
     "output_type": "display_data"
    }
   ],
   "source": [
    "features.plot.bar()"
   ]
  },
  {
   "cell_type": "code",
   "execution_count": 62,
   "id": "5a4217ed",
   "metadata": {
    "scrolled": true
   },
   "outputs": [
    {
     "name": "stdout",
     "output_type": "stream",
     "text": [
      "Feature 0: 49433245.422163\n",
      "Feature 1: 182.350925\n",
      "Feature 2: 282.898426\n",
      "Feature 3: 5699.458943\n",
      "Feature 4: 1799.407025\n",
      "Feature 5: 11444.099862\n",
      "Feature 6: 484.920360\n",
      "Feature 7: 1190897.540847\n",
      "Feature 8: 15887816.482297\n",
      "Feature 9: 211125.896984\n",
      "Feature 10: 13074967.327651\n",
      "Feature 11: 6581.934526\n",
      "Feature 12: 1295.948699\n",
      "Feature 13: 31711.657906\n",
      "Feature 14: 104491.066409\n",
      "Feature 15: 191712.618224\n",
      "Feature 16: 978.696770\n",
      "Feature 17: 104107.050736\n",
      "Feature 18: 6148574.914541\n",
      "Feature 19: 543465.733068\n"
     ]
    }
   ],
   "source": [
    "for i in range(len(test.scores_)):\n",
    "    print('Feature %d: %f' % (i, test.scores_[i]))"
   ]
  },
  {
   "cell_type": "code",
   "execution_count": 63,
   "id": "d9b846f9",
   "metadata": {
    "scrolled": true
   },
   "outputs": [
    {
     "data": {
      "image/png": "[encoded data removed]",
      "text/plain": [
       "<Figure size 432x288 with 1 Axes>"
      ]
     },
     "metadata": {
      "needs_background": "light"
     },
     "output_type": "display_data"
    }
   ],
   "source": [
    "plt.bar([i for i in range(len(test.scores_))], test.scores_)\n",
    "plt.show()"
   ]
  },
  {
   "cell_type": "code",
   "execution_count": 64,
   "id": "5494312b",
   "metadata": {
    "scrolled": false
   },
   "outputs": [
    {
     "data": {
      "text/html": [
       "<div>\n",
       "<style scoped>\n",
       "    .dataframe tbody tr th:only-of-type {\n",
       "        vertical-align: middle;\n",
       "    }\n",
       "\n",
       "    .dataframe tbody tr th {\n",
       "        vertical-align: top;\n",
       "    }\n",
       "\n",
       "    .dataframe thead th {\n",
       "        text-align: right;\n",
       "    }\n",
       "</style>\n",
       "<table border=\"1\" class=\"dataframe\">\n",
       "  <thead>\n",
       "    <tr style=\"text-align: right;\">\n",
       "      <th></th>\n",
       "      <th>0</th>\n",
       "    </tr>\n",
       "  </thead>\n",
       "  <tbody>\n",
       "    <tr>\n",
       "      <th>0</th>\n",
       "      <td>5.285370e+07</td>\n",
       "    </tr>\n",
       "    <tr>\n",
       "      <th>1</th>\n",
       "      <td>6.362009e+02</td>\n",
       "    </tr>\n",
       "    <tr>\n",
       "      <th>2</th>\n",
       "      <td>3.254027e+02</td>\n",
       "    </tr>\n",
       "    <tr>\n",
       "      <th>3</th>\n",
       "      <td>7.728801e+03</td>\n",
       "    </tr>\n",
       "    <tr>\n",
       "      <th>4</th>\n",
       "      <td>1.331195e+03</td>\n",
       "    </tr>\n",
       "    <tr>\n",
       "      <th>5</th>\n",
       "      <td>1.722609e+04</td>\n",
       "    </tr>\n",
       "    <tr>\n",
       "      <th>6</th>\n",
       "      <td>5.020384e+02</td>\n",
       "    </tr>\n",
       "    <tr>\n",
       "      <th>7</th>\n",
       "      <td>1.179497e+06</td>\n",
       "    </tr>\n",
       "    <tr>\n",
       "      <th>8</th>\n",
       "      <td>1.401136e+07</td>\n",
       "    </tr>\n",
       "    <tr>\n",
       "      <th>9</th>\n",
       "      <td>1.690895e+05</td>\n",
       "    </tr>\n",
       "    <tr>\n",
       "      <th>10</th>\n",
       "      <td>9.513945e+06</td>\n",
       "    </tr>\n",
       "    <tr>\n",
       "      <th>11</th>\n",
       "      <td>1.460414e+04</td>\n",
       "    </tr>\n",
       "    <tr>\n",
       "      <th>12</th>\n",
       "      <td>7.604809e+02</td>\n",
       "    </tr>\n",
       "    <tr>\n",
       "      <th>13</th>\n",
       "      <td>3.932551e+04</td>\n",
       "    </tr>\n",
       "    <tr>\n",
       "      <th>14</th>\n",
       "      <td>1.053453e+05</td>\n",
       "    </tr>\n",
       "    <tr>\n",
       "      <th>15</th>\n",
       "      <td>1.919182e+05</td>\n",
       "    </tr>\n",
       "    <tr>\n",
       "      <th>16</th>\n",
       "      <td>1.027834e+03</td>\n",
       "    </tr>\n",
       "    <tr>\n",
       "      <th>17</th>\n",
       "      <td>9.197639e+04</td>\n",
       "    </tr>\n",
       "    <tr>\n",
       "      <th>18</th>\n",
       "      <td>5.031295e+06</td>\n",
       "    </tr>\n",
       "    <tr>\n",
       "      <th>19</th>\n",
       "      <td>7.003010e+05</td>\n",
       "    </tr>\n",
       "  </tbody>\n",
       "</table>\n",
       "</div>"
      ],
      "text/plain": [
       "               0\n",
       "0   5.285370e+07\n",
       "1   6.362009e+02\n",
       "2   3.254027e+02\n",
       "3   7.728801e+03\n",
       "4   1.331195e+03\n",
       "5   1.722609e+04\n",
       "6   5.020384e+02\n",
       "7   1.179497e+06\n",
       "8   1.401136e+07\n",
       "9   1.690895e+05\n",
       "10  9.513945e+06\n",
       "11  1.460414e+04\n",
       "12  7.604809e+02\n",
       "13  3.932551e+04\n",
       "14  1.053453e+05\n",
       "15  1.919182e+05\n",
       "16  1.027834e+03\n",
       "17  9.197639e+04\n",
       "18  5.031295e+06\n",
       "19  7.003010e+05"
      ]
     },
     "execution_count": 64,
     "metadata": {},
     "output_type": "execute_result"
    }
   ],
   "source": [
    "features"
   ]
  },
  {
   "cell_type": "code",
   "execution_count": 65,
   "id": "7e41f185",
   "metadata": {},
   "outputs": [],
   "source": [
    "array=np.array ([[23622,     7,     1, ...,   169,  1142,   676],\n",
    "       [23148,     7,     1, ...,     4, 14456,  2524],\n",
    "       [ 5983,     8,     1, ...,    11, 12751,  2222],\n",
    "       ...,\n",
    "       [ 4440,     7,     0, ...,    22, 15757,   637],\n",
    "       [ 1984,     6,     0, ...,    54,  6066,  2029],\n",
    "       [19912,     7,     1, ...,    37,  6138,  1357]])"
   ]
  },
  {
   "cell_type": "code",
   "execution_count": 66,
   "id": "8f282401",
   "metadata": {},
   "outputs": [
    {
     "name": "stdout",
     "output_type": "stream",
     "text": [
      "original features: 20\n"
     ]
    }
   ],
   "source": [
    "print('original features:', X_res.shape[1])"
   ]
  },
  {
   "cell_type": "code",
   "execution_count": 67,
   "id": "a46a29c6",
   "metadata": {},
   "outputs": [
    {
     "name": "stdout",
     "output_type": "stream",
     "text": [
      "reduced features: 1\n"
     ]
    }
   ],
   "source": [
    "print('reduced features:',features.shape[1])\n"
   ]
  },
  {
   "cell_type": "markdown",
   "id": "e7667e5d",
   "metadata": {},
   "source": [
    "# Feature Selection:-Using Mutual info classifier"
   ]
  },
  {
   "cell_type": "code",
   "execution_count": 68,
   "id": "78f8c380",
   "metadata": {},
   "outputs": [],
   "source": [
    "from sklearn.feature_selection import mutual_info_classif"
   ]
  },
  {
   "cell_type": "code",
   "execution_count": 69,
   "id": "a0eee46f",
   "metadata": {},
   "outputs": [],
   "source": [
    "fs = SelectKBest(score_func=mutual_info_classif, k='all')\n",
    "fs.fit(X_res, y_res)\n",
    "features_select = fit.transform(X_res)"
   ]
  },
  {
   "cell_type": "code",
   "execution_count": 70,
   "id": "ba901faf",
   "metadata": {},
   "outputs": [
    {
     "name": "stdout",
     "output_type": "stream",
     "text": [
      "Feature 0: 0.431083\n",
      "Feature 1: 0.062976\n",
      "Feature 2: 0.018433\n",
      "Feature 3: 0.010575\n",
      "Feature 4: 0.001942\n",
      "Feature 5: 0.030187\n",
      "Feature 6: 0.028303\n",
      "Feature 7: 0.416349\n",
      "Feature 8: 0.398055\n",
      "Feature 9: 0.289281\n",
      "Feature 10: 0.250650\n",
      "Feature 11: 0.179453\n",
      "Feature 12: 0.182090\n",
      "Feature 13: 0.187006\n",
      "Feature 14: 0.697117\n",
      "Feature 15: 1.081587\n",
      "Feature 16: 0.041273\n",
      "Feature 17: 0.249715\n",
      "Feature 18: 0.377972\n",
      "Feature 19: 0.309621\n"
     ]
    }
   ],
   "source": [
    "for i in range(len(fs.scores_)):\n",
    "    print('Feature %d: %f' % (i, fs.scores_[i]))"
   ]
  },
  {
   "cell_type": "code",
   "execution_count": 71,
   "id": "9291a4d6",
   "metadata": {
    "scrolled": true
   },
   "outputs": [
    {
     "data": {
      "image/png": "[encoded data removed]",
      "text/plain": [
       "<Figure size 432x288 with 1 Axes>"
      ]
     },
     "metadata": {
      "needs_background": "light"
     },
     "output_type": "display_data"
    }
   ],
   "source": [
    "plt.bar([i for i in range(len(fs.scores_))], fs.scores_)\n",
    "plt.show()"
   ]
  },
  {
   "cell_type": "code",
   "execution_count": 72,
   "id": "dfc9d000",
   "metadata": {
    "scrolled": true
   },
   "outputs": [
    {
     "name": "stdout",
     "output_type": "stream",
     "text": [
      "<class 'pandas.core.frame.DataFrame'>\n",
      "RangeIndex: 141712 entries, 0 to 141711\n",
      "Data columns (total 21 columns):\n",
      " #   Column              Non-Null Count   Dtype\n",
      "---  ------              --------------   -----\n",
      " 0   number              141712 non-null  int32\n",
      " 1   incident_state      141712 non-null  int32\n",
      " 2   active              141712 non-null  int64\n",
      " 3   reassignment_count  141712 non-null  int64\n",
      " 4   reopen_count        141712 non-null  int64\n",
      " 5   sys_mod_count       141712 non-null  int64\n",
      " 6   made_sla            141712 non-null  int64\n",
      " 7   opened_by           141712 non-null  int32\n",
      " 8   opened_at           141712 non-null  int32\n",
      " 9   sys_updated_by      141712 non-null  int32\n",
      " 10  sys_updated_at      141712 non-null  int32\n",
      " 11  location            141712 non-null  int32\n",
      " 12  category            141712 non-null  int32\n",
      " 13  subcategory         141712 non-null  int32\n",
      " 14  impact              141712 non-null  int32\n",
      " 15  urgency             141712 non-null  int32\n",
      " 16  priority            141712 non-null  int32\n",
      " 17  closed_code         141712 non-null  int32\n",
      " 18  resolved_by         141712 non-null  int32\n",
      " 19  resolved_at         141712 non-null  int32\n",
      " 20  closed_at           141712 non-null  int32\n",
      "dtypes: int32(16), int64(5)\n",
      "memory usage: 14.1 MB\n"
     ]
    }
   ],
   "source": [
    "data.info()"
   ]
  },
  {
   "cell_type": "markdown",
   "id": "b2cd9e2e",
   "metadata": {},
   "source": [
    "# Feature Extraction by Decision tree"
   ]
  },
  {
   "cell_type": "code",
   "execution_count": 73,
   "id": "80548d0a",
   "metadata": {
    "scrolled": true
   },
   "outputs": [
    {
     "name": "stdout",
     "output_type": "stream",
     "text": [
      "Feature: 0, Score: 0.00061\n",
      "Feature: 1, Score: 0.00000\n",
      "Feature: 2, Score: 0.00000\n",
      "Feature: 3, Score: 0.00017\n",
      "Feature: 4, Score: 0.00000\n",
      "Feature: 5, Score: 0.00012\n",
      "Feature: 6, Score: 0.00000\n",
      "Feature: 7, Score: 0.00022\n",
      "Feature: 8, Score: 0.00026\n",
      "Feature: 9, Score: 0.00010\n",
      "Feature: 10, Score: 0.00064\n",
      "Feature: 11, Score: 0.00041\n",
      "Feature: 12, Score: 0.00024\n",
      "Feature: 13, Score: 0.00047\n",
      "Feature: 14, Score: 0.01727\n",
      "Feature: 15, Score: 0.97889\n",
      "Feature: 16, Score: 0.00008\n",
      "Feature: 17, Score: 0.00020\n",
      "Feature: 18, Score: 0.00017\n",
      "Feature: 19, Score: 0.00016\n"
     ]
    },
    {
     "data": {
      "image/png": "[encoded data removed]",
      "text/plain": [
       "<Figure size 432x288 with 1 Axes>"
      ]
     },
     "metadata": {
      "needs_background": "light"
     },
     "output_type": "display_data"
    }
   ],
   "source": [
    "from sklearn.tree import  DecisionTreeClassifier\n",
    "\n",
    "# feature extraction\n",
    "model=DecisionTreeClassifier()\n",
    "# fit the model\n",
    "model.fit(X_res, y_res)\n",
    "# get importance\n",
    "imp = model.feature_importances_\n",
    "# summarize feature importance\n",
    "for i,v in enumerate(imp):\n",
    "    print('Feature: %0d, Score: %.5f' % (i,v))\n",
    "# plot feature importance\n",
    "plt.bar([x for x in range(len(imp))], imp)\n",
    "plt.show()"
   ]
  },
  {
   "cell_type": "markdown",
   "id": "78d4b00f",
   "metadata": {},
   "source": [
    "# feature selection by random forest classifier"
   ]
  },
  {
   "cell_type": "code",
   "execution_count": 74,
   "id": "a6005b7b",
   "metadata": {},
   "outputs": [],
   "source": [
    "from sklearn.ensemble import RandomForestClassifier\n",
    "from sklearn.model_selection import cross_val_score"
   ]
  },
  {
   "cell_type": "code",
   "execution_count": 75,
   "id": "78a54d20",
   "metadata": {},
   "outputs": [],
   "source": [
    "num_trees = 100\n",
    "max_features = 3\n",
    "modelRM = RandomForestClassifier(n_estimators=num_trees)"
   ]
  },
  {
   "cell_type": "code",
   "execution_count": 76,
   "id": "df7277eb",
   "metadata": {},
   "outputs": [
    {
     "name": "stdout",
     "output_type": "stream",
     "text": [
      "0.9998603663443971\n"
     ]
    }
   ],
   "source": [
    "results = cross_val_score(modelRM,X_res, y_res)\n",
    "print(results.mean())"
   ]
  },
  {
   "cell_type": "code",
   "execution_count": 77,
   "id": "3d2df472",
   "metadata": {
    "scrolled": true
   },
   "outputs": [
    {
     "data": {
      "text/plain": [
       "RandomForestClassifier()"
      ]
     },
     "execution_count": 77,
     "metadata": {},
     "output_type": "execute_result"
    }
   ],
   "source": [
    "modelRM.fit(X_train,y_train)"
   ]
  },
  {
   "cell_type": "code",
   "execution_count": 78,
   "id": "0513c3e4",
   "metadata": {},
   "outputs": [],
   "source": [
    "RF=SelectKBest(score_func=RandomForestClassifier, k=5)\n",
    "RF.fit(X_res,y_res)\n",
    "features_select = fit.transform(X_res)"
   ]
  },
  {
   "cell_type": "code",
   "execution_count": 79,
   "id": "a72f61ec",
   "metadata": {},
   "outputs": [
    {
     "data": {
      "text/plain": [
       "15    0.978888\n",
       "14    0.017268\n",
       "10    0.000637\n",
       "0     0.000605\n",
       "13    0.000474\n",
       "11    0.000412\n",
       "8     0.000262\n",
       "12    0.000235\n",
       "7     0.000220\n",
       "17    0.000203\n",
       "18    0.000166\n",
       "3     0.000166\n",
       "19    0.000160\n",
       "5     0.000115\n",
       "9     0.000101\n",
       "16    0.000084\n",
       "2     0.000003\n",
       "4     0.000000\n",
       "6     0.000000\n",
       "1     0.000000\n",
       "dtype: float64"
      ]
     },
     "execution_count": 79,
     "metadata": {},
     "output_type": "execute_result"
    }
   ],
   "source": [
    "import pandas as pd\n",
    "feature_imp = pd.Series(model.feature_importances_).sort_values(ascending=False)\n",
    "feature_imp"
   ]
  },
  {
   "cell_type": "code",
   "execution_count": 80,
   "id": "531e1a92",
   "metadata": {
    "scrolled": false
   },
   "outputs": [
    {
     "name": "stderr",
     "output_type": "stream",
     "text": [
      "No handles with labels found to put in legend.\n"
     ]
    },
    {
     "data": {
      "text/plain": [
       "<matplotlib.legend.Legend at 0x15e076322e0>"
      ]
     },
     "execution_count": 80,
     "metadata": {},
     "output_type": "execute_result"
    },
    {
     "data": {
      "image/png": "[encoded data removed]",
      "text/plain": [
       "<Figure size 432x288 with 1 Axes>"
      ]
     },
     "metadata": {
      "needs_background": "light"
     },
     "output_type": "display_data"
    }
   ],
   "source": [
    "import matplotlib.pyplot as plt\n",
    "import seaborn as sns\n",
    "%matplotlib inline\n",
    "# Creating a bar plot\n",
    "sns.barplot(x=feature_imp, y=feature_imp.index)\n",
    "# Add labels to your graph\n",
    "plt.xlabel('Feature Importance Score')\n",
    "plt.ylabel('Features')\n",
    "plt.title(\"Visualizing Important Features\")\n",
    "plt.legend()"
   ]
  },
  {
   "cell_type": "markdown",
   "id": "8f93ccab",
   "metadata": {},
   "source": [
    "# feature selection by XGB classifier"
   ]
  },
  {
   "cell_type": "code",
   "execution_count": 81,
   "id": "f3378c95",
   "metadata": {},
   "outputs": [],
   "source": [
    "#from xgboost import XGBClassifier"
   ]
  },
  {
   "cell_type": "code",
   "execution_count": 82,
   "id": "b8583e48",
   "metadata": {},
   "outputs": [],
   "source": [
    "#from xgboost import plot_tree"
   ]
  },
  {
   "cell_type": "code",
   "execution_count": 83,
   "id": "8cb08fea",
   "metadata": {},
   "outputs": [],
   "source": [
    "#from sklearn.model_selection import cross_val_score"
   ]
  },
  {
   "cell_type": "code",
   "execution_count": 84,
   "id": "c50de161",
   "metadata": {},
   "outputs": [],
   "source": [
    "#modelXGB = XGBClassifier()\n",
    "#modelXGB.fit(X_res, y_res)"
   ]
  },
  {
   "cell_type": "code",
   "execution_count": 85,
   "id": "b92ff5a5",
   "metadata": {},
   "outputs": [],
   "source": [
    "#cores = cross_val_score(modelXGB, X_res, y_res, cv=5)\n",
    "#print(\"Mean cross-validation score: %.2f\" % cores.mean()) \n",
    "     # kfold = KFold(n_splits=10, shuffle=True)\n",
    "     # kf_cv_scores = cross_val_score(xgbc, xtrain, ytrain, cv=kfold ) \n",
    "    #print(\"K-fold CV average score: %.2f\" % kf_cv_scores.mean())K-fold CV average score: 0.94"
   ]
  },
  {
   "cell_type": "markdown",
   "id": "900c8bd3",
   "metadata": {},
   "source": [
    "# Final columns to be dropped are as follows"
   ]
  },
  {
   "cell_type": "code",
   "execution_count": 86,
   "id": "9a547980",
   "metadata": {},
   "outputs": [
    {
     "data": {
      "text/plain": [
       "(141712, 21)"
      ]
     },
     "execution_count": 86,
     "metadata": {},
     "output_type": "execute_result"
    }
   ],
   "source": [
    "data.shape"
   ]
  },
  {
   "cell_type": "code",
   "execution_count": 87,
   "id": "ef7b60ba",
   "metadata": {},
   "outputs": [
    {
     "data": {
      "text/plain": [
       "(141712, 13)"
      ]
     },
     "execution_count": 87,
     "metadata": {},
     "output_type": "execute_result"
    }
   ],
   "source": [
    "data = data.drop(columns=['active', 'reassignment_count','reopen_count', 'sys_mod_count', 'made_sla','location', 'category','closed_code'])\n",
    "data.shape"
   ]
  },
  {
   "cell_type": "code",
   "execution_count": 88,
   "id": "6518ad7d",
   "metadata": {},
   "outputs": [],
   "source": [
    "new_data =data"
   ]
  },
  {
   "cell_type": "code",
   "execution_count": 89,
   "id": "5757d7d6",
   "metadata": {},
   "outputs": [
    {
     "data": {
      "text/plain": [
       "Index(['number', 'incident_state', 'opened_by', 'opened_at', 'sys_updated_by',\n",
       "       'sys_updated_at', 'subcategory', 'impact', 'urgency', 'priority',\n",
       "       'resolved_by', 'resolved_at', 'closed_at'],\n",
       "      dtype='object')"
      ]
     },
     "execution_count": 89,
     "metadata": {},
     "output_type": "execute_result"
    }
   ],
   "source": [
    "new_data.columns"
   ]
  },
  {
   "cell_type": "code",
   "execution_count": 90,
   "id": "a38a0a61",
   "metadata": {},
   "outputs": [],
   "source": [
    "A_train, b_train, A_valid, b_valid, A_test, b_test = train_valid_test_split(new_data, target ='impact', train_size=0.8, valid_size=0.1, test_size=0.1)"
   ]
  },
  {
   "cell_type": "code",
   "execution_count": 91,
   "id": "5c6f161e",
   "metadata": {
    "scrolled": true
   },
   "outputs": [
    {
     "name": "stdout",
     "output_type": "stream",
     "text": [
      "(113369, 12)\n",
      "(113369,)\n",
      "(14172, 12)\n",
      "(14172,)\n",
      "(14171, 12)\n",
      "(14171,)\n"
     ]
    },
    {
     "data": {
      "text/plain": [
       "(None, None)"
      ]
     },
     "execution_count": 91,
     "metadata": {},
     "output_type": "execute_result"
    }
   ],
   "source": [
    "print(A_train.shape), print( b_train.shape)\n",
    "print(A_test.shape), print( b_test.shape)\n",
    "print (A_valid.shape), print(b_valid.shape)"
   ]
  },
  {
   "cell_type": "code",
   "execution_count": 92,
   "id": "dab8c954",
   "metadata": {},
   "outputs": [],
   "source": [
    "A_train_1,A_test_1,b_train_1,b_test_1 = train_test_split(A_train,b_train,test_size=0.2, random_state=42)"
   ]
  },
  {
   "cell_type": "code",
   "execution_count": 93,
   "id": "d770b860",
   "metadata": {},
   "outputs": [
    {
     "name": "stdout",
     "output_type": "stream",
     "text": [
      "(90695, 12)\n",
      "(90695,)\n"
     ]
    },
    {
     "data": {
      "text/plain": [
       "(None, None)"
      ]
     },
     "execution_count": 93,
     "metadata": {},
     "output_type": "execute_result"
    }
   ],
   "source": [
    "print(A_train_1.shape), print(b_train_1.shape)"
   ]
  },
  {
   "cell_type": "code",
   "execution_count": 94,
   "id": "ba810f0e",
   "metadata": {},
   "outputs": [
    {
     "name": "stdout",
     "output_type": "stream",
     "text": [
      "Class=2, n=2530 (2.790%)\n"
     ]
    },
    {
     "data": {
      "image/png": "[encoded data removed]",
      "text/plain": [
       "<Figure size 432x288 with 1 Axes>"
      ]
     },
     "metadata": {
      "needs_background": "light"
     },
     "output_type": "display_data"
    }
   ],
   "source": [
    "# summarize distribution\n",
    "counter = Counter(y_train_1)\n",
    "for k,v in counter.items():\n",
    "    per = v / len(y_train_1) * 100\n",
    "print('Class=%d, n=%d (%.3f%%)' % (k, v, per))\n",
    "# plot the distribution\n",
    "plt.bar(counter.keys(), counter.values())\n",
    "plt.show()"
   ]
  },
  {
   "cell_type": "code",
   "execution_count": 95,
   "id": "acb901bd",
   "metadata": {},
   "outputs": [],
   "source": [
    "A_res, b_res = smt.fit_resample(A_train_1, b_train_1)"
   ]
  },
  {
   "cell_type": "code",
   "execution_count": 96,
   "id": "97914f69",
   "metadata": {},
   "outputs": [
    {
     "name": "stdout",
     "output_type": "stream",
     "text": [
      "Class=2, n=86018 (33.333%)\n"
     ]
    },
    {
     "data": {
      "image/png": "[encoded data removed]",
      "text/plain": [
       "<Figure size 432x288 with 1 Axes>"
      ]
     },
     "metadata": {
      "needs_background": "light"
     },
     "output_type": "display_data"
    }
   ],
   "source": [
    "# summarize distribution\n",
    "counter = Counter(b_res)\n",
    "for k,v in counter.items():\n",
    "    per = v / len(b_res) * 100\n",
    "print('Class=%d, n=%d (%.3f%%)' % (k, v, per))\n",
    "# plot the distribution\n",
    "plt.bar(counter.keys(), counter.values())\n",
    "plt.show()"
   ]
  },
  {
   "cell_type": "code",
   "execution_count": 97,
   "id": "9f59c055",
   "metadata": {},
   "outputs": [
    {
     "name": "stdout",
     "output_type": "stream",
     "text": [
      "<class 'pandas.core.frame.DataFrame'>\n",
      "RangeIndex: 141712 entries, 0 to 141711\n",
      "Data columns (total 13 columns):\n",
      " #   Column          Non-Null Count   Dtype\n",
      "---  ------          --------------   -----\n",
      " 0   number          141712 non-null  int32\n",
      " 1   incident_state  141712 non-null  int32\n",
      " 2   opened_by       141712 non-null  int32\n",
      " 3   opened_at       141712 non-null  int32\n",
      " 4   sys_updated_by  141712 non-null  int32\n",
      " 5   sys_updated_at  141712 non-null  int32\n",
      " 6   subcategory     141712 non-null  int32\n",
      " 7   impact          141712 non-null  int32\n",
      " 8   urgency         141712 non-null  int32\n",
      " 9   priority        141712 non-null  int32\n",
      " 10  resolved_by     141712 non-null  int32\n",
      " 11  resolved_at     141712 non-null  int32\n",
      " 12  closed_at       141712 non-null  int32\n",
      "dtypes: int32(13)\n",
      "memory usage: 7.0 MB\n"
     ]
    }
   ],
   "source": [
    "new_data.info()"
   ]
  },
  {
   "cell_type": "markdown",
   "id": "c232495b",
   "metadata": {},
   "source": [
    "# Model building after keeping the final 12 features in consideration also created a new_data as new dataset "
   ]
  },
  {
   "cell_type": "markdown",
   "id": "73f5a7f7",
   "metadata": {},
   "source": [
    "# Decision tree classifier"
   ]
  },
  {
   "cell_type": "code",
   "execution_count": 98,
   "id": "2a9caeed",
   "metadata": {},
   "outputs": [
    {
     "data": {
      "text/plain": [
       "DecisionTreeClassifier()"
      ]
     },
     "execution_count": 98,
     "metadata": {},
     "output_type": "execute_result"
    }
   ],
   "source": [
    "from sklearn.tree import  DecisionTreeClassifier\n",
    "\n",
    "model_dt=DecisionTreeClassifier()\n",
    "model_dt.fit(A_res,b_res)"
   ]
  },
  {
   "cell_type": "markdown",
   "id": "6777ea7e",
   "metadata": {},
   "source": [
    "# confusion matrix for dt"
   ]
  },
  {
   "cell_type": "code",
   "execution_count": 99,
   "id": "715bc46c",
   "metadata": {
    "scrolled": true
   },
   "outputs": [
    {
     "name": "stdout",
     "output_type": "stream",
     "text": [
      "0.9997794831084061\n",
      "[[  583     0     0]\n",
      " [    0 21463     5]\n",
      " [    0     0   623]]\n",
      "              precision    recall  f1-score   support\n",
      "\n",
      "           0       1.00      1.00      1.00       583\n",
      "           1       1.00      1.00      1.00     21468\n",
      "           2       0.99      1.00      1.00       623\n",
      "\n",
      "    accuracy                           1.00     22674\n",
      "   macro avg       1.00      1.00      1.00     22674\n",
      "weighted avg       1.00      1.00      1.00     22674\n",
      "\n"
     ]
    }
   ],
   "source": [
    "from sklearn.metrics import accuracy_score, classification_report, confusion_matrix\n",
    "\n",
    "y_pred_dt = model_dt.predict(A_test_1)\n",
    "print(accuracy_score(b_test_1, y_pred_dt))\n",
    "print(confusion_matrix(b_test_1, y_pred_dt))\n",
    "print(classification_report(b_test_1, y_pred_dt))"
   ]
  },
  {
   "cell_type": "markdown",
   "id": "afd2a8be",
   "metadata": {},
   "source": [
    "# validation set for dt"
   ]
  },
  {
   "cell_type": "code",
   "execution_count": 100,
   "id": "394b5c12",
   "metadata": {},
   "outputs": [
    {
     "name": "stdout",
     "output_type": "stream",
     "text": [
      "Accuracy: 0.998 (0.001)\n"
     ]
    }
   ],
   "source": [
    "# prepare the cross-validation procedure\n",
    "from numpy import mean\n",
    "from numpy import std\n",
    "from sklearn.datasets import make_classification\n",
    "from sklearn.model_selection import KFold\n",
    "from sklearn.model_selection import cross_val_score\n",
    "\n",
    "cv = KFold(n_splits=10, random_state=1, shuffle=True)\n",
    "# evaluate model\n",
    "scores = cross_val_score(model_dt,A_valid, b_valid, scoring='accuracy', cv=cv)\n",
    "# report performance\n",
    "print('Accuracy: %.3f (%.3f)' % (mean(scores), std(scores)))"
   ]
  },
  {
   "cell_type": "markdown",
   "id": "0dd48fa8",
   "metadata": {},
   "source": [
    "# Predictions for Decision tree classifier for test data"
   ]
  },
  {
   "cell_type": "code",
   "execution_count": 101,
   "id": "1c594695",
   "metadata": {},
   "outputs": [
    {
     "name": "stdout",
     "output_type": "stream",
     "text": [
      "0.9997883149872989\n",
      "[[  361     0     0]\n",
      " [    0 13426     3]\n",
      " [    0     0   382]]\n"
     ]
    }
   ],
   "source": [
    "from sklearn.metrics import accuracy_score, classification_report, confusion_matrix\n",
    "\n",
    "y_pred = model_dt.predict(A_test)\n",
    "print(accuracy_score(b_test, y_pred))\n",
    "print(confusion_matrix(b_test, y_pred))"
   ]
  },
  {
   "cell_type": "markdown",
   "id": "581e488f",
   "metadata": {},
   "source": [
    "# Random forest classifier"
   ]
  },
  {
   "cell_type": "code",
   "execution_count": 102,
   "id": "4fd6db86",
   "metadata": {},
   "outputs": [
    {
     "data": {
      "text/plain": [
       "RandomForestClassifier()"
      ]
     },
     "execution_count": 102,
     "metadata": {},
     "output_type": "execute_result"
    }
   ],
   "source": [
    "from sklearn.ensemble import RandomForestClassifier\n",
    "\n",
    "num_trees = 100\n",
    "model_rf = RandomForestClassifier(n_estimators=num_trees)\n",
    "model_rf.fit(A_res,b_res)"
   ]
  },
  {
   "cell_type": "markdown",
   "id": "cb44ef41",
   "metadata": {},
   "source": [
    "# confusion matrix for RFC"
   ]
  },
  {
   "cell_type": "code",
   "execution_count": 103,
   "id": "27588c38",
   "metadata": {
    "scrolled": false
   },
   "outputs": [
    {
     "name": "stdout",
     "output_type": "stream",
     "text": [
      "0.9998235864867249\n",
      "[[  583     0     0]\n",
      " [    0 21465     3]\n",
      " [    0     1   622]]\n",
      "              precision    recall  f1-score   support\n",
      "\n",
      "           0       1.00      1.00      1.00       583\n",
      "           1       1.00      1.00      1.00     21468\n",
      "           2       1.00      1.00      1.00       623\n",
      "\n",
      "    accuracy                           1.00     22674\n",
      "   macro avg       1.00      1.00      1.00     22674\n",
      "weighted avg       1.00      1.00      1.00     22674\n",
      "\n"
     ]
    }
   ],
   "source": [
    "from sklearn.metrics import accuracy_score, classification_report, confusion_matrix\n",
    "\n",
    "y_pred_rf= model_rf.predict(A_test_1)\n",
    "print(accuracy_score(b_test_1, y_pred_rf))\n",
    "print(confusion_matrix(b_test_1, y_pred_rf))\n",
    "print(classification_report(b_test_1, y_pred_rf))"
   ]
  },
  {
   "cell_type": "markdown",
   "id": "20377c75",
   "metadata": {},
   "source": [
    "# Validation set for RFC"
   ]
  },
  {
   "cell_type": "code",
   "execution_count": 104,
   "id": "93dd0e6f",
   "metadata": {},
   "outputs": [
    {
     "name": "stdout",
     "output_type": "stream",
     "text": [
      "Accuracy: 0.999 (0.001)\n"
     ]
    }
   ],
   "source": [
    "# prepare the cross-validation procedure\n",
    "cv = KFold(n_splits=10, random_state=1, shuffle=True)\n",
    "# evaluate model\n",
    "scores = cross_val_score(model_rf,A_valid, b_valid, scoring='accuracy', cv=cv)\n",
    "# report performance\n",
    "print('Accuracy: %.3f (%.3f)' % (mean(scores), std(scores)))"
   ]
  },
  {
   "cell_type": "code",
   "execution_count": 105,
   "id": "8a7f7130",
   "metadata": {},
   "outputs": [
    {
     "name": "stdout",
     "output_type": "stream",
     "text": [
      "Training set score: 1.0000\n",
      "Test set score: 0.9998\n"
     ]
    }
   ],
   "source": [
    "# print the scores on training and test set\n",
    "\n",
    "print('Training set score: {:.4f}'.format(model_rf.score(A_train_1, b_train_1)))\n",
    "\n",
    "print('Test set score: {:.4f}'.format(model_rf.score(A_test_1, b_test_1)))"
   ]
  },
  {
   "cell_type": "markdown",
   "id": "93f32e50",
   "metadata": {},
   "source": [
    "# Prediction for random forest classifier Using Test data"
   ]
  },
  {
   "cell_type": "code",
   "execution_count": 106,
   "id": "29d35eda",
   "metadata": {},
   "outputs": [
    {
     "name": "stdout",
     "output_type": "stream",
     "text": [
      "0.9996471916454982\n",
      "[[  361     0     0]\n",
      " [    0 13424     5]\n",
      " [    0     0   382]]\n"
     ]
    }
   ],
   "source": [
    "from sklearn.metrics import accuracy_score, classification_report, confusion_matrix\n",
    "\n",
    "y_pred = model_rf.predict(A_test)\n",
    "print(accuracy_score(b_test, y_pred))\n",
    "print(confusion_matrix(b_test, y_pred))"
   ]
  },
  {
   "cell_type": "markdown",
   "id": "32abd4be",
   "metadata": {},
   "source": [
    "# SVC model"
   ]
  },
  {
   "cell_type": "code",
   "execution_count": 107,
   "id": "2b17a34a",
   "metadata": {},
   "outputs": [],
   "source": [
    "#from sklearn.svm import SVC\n",
    "\n",
    "#model_svc= SVC()\n",
    "#model_svc.fit(A_res,b_res)"
   ]
  },
  {
   "cell_type": "code",
   "execution_count": 108,
   "id": "259d7c80",
   "metadata": {},
   "outputs": [],
   "source": [
    "#from sklearn.metrics import accuracy_score, classification_report, confusion_matrix\n",
    "\n",
    "#y_pred_sv = model_svc.predict(A_test_1)\n",
    "#print(accuracy_score(b_test_1, y_pred_sv))\n",
    "#print(confusion_matrix(b_test_1, y_pred_sv))\n",
    "#print(classification_report(b_test_1, y_pred_sv))"
   ]
  },
  {
   "cell_type": "code",
   "execution_count": 109,
   "id": "52786602",
   "metadata": {},
   "outputs": [
    {
     "name": "stdout",
     "output_type": "stream",
     "text": [
      "Accuracy: 0.999 (0.001)\n"
     ]
    }
   ],
   "source": [
    "# prepare the cross-validation procedure\n",
    "#cv = KFold(n_splits=10, random_state=1, shuffle=True)\n",
    "# evaluate model\n",
    "#scores = cross_val_score(model_svc,A_valid, b_valid, scoring='accuracy', cv=cv)\n",
    "# report performance\n",
    "print('Accuracy: %.3f (%.3f)' % (mean(scores), std(scores)))"
   ]
  },
  {
   "cell_type": "code",
   "execution_count": 110,
   "id": "7cd4c652",
   "metadata": {},
   "outputs": [],
   "source": [
    "#Predictions for Support vector Classifier"
   ]
  },
  {
   "cell_type": "code",
   "execution_count": 111,
   "id": "e84af326",
   "metadata": {},
   "outputs": [],
   "source": [
    "#from sklearn.metrics import accuracy_score, classification_report, confusion_matrix\n",
    "\n",
    "#y_pred = model_nb.predict(A_test)\n",
    "#print(accuracy_score(b_test, y_pred))\n",
    "#print(confusion_matrix(b_test, y_pred))"
   ]
  },
  {
   "cell_type": "markdown",
   "id": "af3f1cb2",
   "metadata": {},
   "source": [
    "# Gaussian naive bayes model"
   ]
  },
  {
   "cell_type": "code",
   "execution_count": 112,
   "id": "d8856f16",
   "metadata": {},
   "outputs": [],
   "source": [
    "#from sklearn.naive_bayes import GaussianNB\n",
    "\n",
    "#model_nb = GaussianNB()\n",
    "#model_nb.fit(A_res,b_res)"
   ]
  },
  {
   "cell_type": "markdown",
   "id": "d12b132c",
   "metadata": {},
   "source": [
    "# confusion matrix for NB"
   ]
  },
  {
   "cell_type": "code",
   "execution_count": 113,
   "id": "3a9dfd84",
   "metadata": {
    "scrolled": true
   },
   "outputs": [],
   "source": [
    "#from sklearn.metrics import accuracy_score, classification_report, confusion_matrix\n",
    "\n",
    "#y_pred_NV = model_nb.predict(A_test_1)\n",
    "#print(accuracy_score(b_test_1, y_pred_NV))\n",
    "#print(confusion_matrix(b_test_1, y_pred_NV))\n",
    "#print(classification_report(b_test_1, y_pred_NV))"
   ]
  },
  {
   "cell_type": "markdown",
   "id": "7e6478b7",
   "metadata": {},
   "source": [
    "# validation set for NB"
   ]
  },
  {
   "cell_type": "code",
   "execution_count": 114,
   "id": "73cda6f6",
   "metadata": {},
   "outputs": [],
   "source": [
    "# prepare the cross-validation procedure\n",
    "#cv = KFold(n_splits=10, random_state=1, shuffle=True)\n",
    "# evaluate model\n",
    "#scores = cross_val_score(model_nb,A_valid, b_valid, scoring='accuracy', cv=cv)\n",
    "# report performance\n",
    "#print('Accuracy: %.3f (%.3f)' % (mean(scores), std(scores)))"
   ]
  },
  {
   "cell_type": "markdown",
   "id": "ca8095ce",
   "metadata": {},
   "source": [
    "# Prediction for Gaussian Naive bayes "
   ]
  },
  {
   "cell_type": "code",
   "execution_count": 115,
   "id": "1ab47885",
   "metadata": {},
   "outputs": [],
   "source": [
    "#from sklearn.metrics import accuracy_score, classification_report, confusion_matrix\n",
    "\n",
    "#y_pred = model_nb.predict(A_test)\n",
    "#print(accuracy_score(b_test, y_pred))\n",
    "#print(confusion_matrix(b_test, y_pred))"
   ]
  },
  {
   "cell_type": "markdown",
   "id": "e366b7cc",
   "metadata": {},
   "source": [
    "# K Nearest neigbours model"
   ]
  },
  {
   "cell_type": "code",
   "execution_count": 116,
   "id": "111d6f35",
   "metadata": {},
   "outputs": [
    {
     "data": {
      "text/plain": [
       "KNeighborsClassifier(n_neighbors=3)"
      ]
     },
     "execution_count": 116,
     "metadata": {},
     "output_type": "execute_result"
    }
   ],
   "source": [
    "from sklearn.neighbors  import KNeighborsClassifier\n",
    "\n",
    "model_knn = KNeighborsClassifier(n_neighbors=3)\n",
    "model_knn.fit(A_res,b_res)"
   ]
  },
  {
   "cell_type": "markdown",
   "id": "c4bf6c61",
   "metadata": {},
   "source": [
    " + confusion matrix KNN"
   ]
  },
  {
   "cell_type": "code",
   "execution_count": 117,
   "id": "1f65d27d",
   "metadata": {
    "scrolled": true
   },
   "outputs": [
    {
     "name": "stdout",
     "output_type": "stream",
     "text": [
      "0.889124106906589\n",
      "[[  363   194    26]\n",
      " [  959 19380  1129]\n",
      " [   20   186   417]]\n",
      "              precision    recall  f1-score   support\n",
      "\n",
      "           0       0.27      0.62      0.38       583\n",
      "           1       0.98      0.90      0.94     21468\n",
      "           2       0.27      0.67      0.38       623\n",
      "\n",
      "    accuracy                           0.89     22674\n",
      "   macro avg       0.51      0.73      0.57     22674\n",
      "weighted avg       0.94      0.89      0.91     22674\n",
      "\n"
     ]
    }
   ],
   "source": [
    "from sklearn.metrics import accuracy_score, classification_report, confusion_matrix\n",
    "\n",
    "y_pred_KNN= model_knn.predict(A_test_1)\n",
    "print(accuracy_score(b_test_1, y_pred_KNN))\n",
    "print(confusion_matrix(b_test_1, y_pred_KNN))\n",
    "print(classification_report(b_test_1, y_pred_KNN))"
   ]
  },
  {
   "cell_type": "markdown",
   "id": "3b9d0fd3",
   "metadata": {},
   "source": [
    "# validation set for KNN"
   ]
  },
  {
   "cell_type": "code",
   "execution_count": 118,
   "id": "062bdec9",
   "metadata": {},
   "outputs": [
    {
     "name": "stdout",
     "output_type": "stream",
     "text": [
      "Accuracy: 0.936 (0.007)\n"
     ]
    }
   ],
   "source": [
    "# prepare the cross-validation procedure\n",
    "cv = KFold(n_splits=10, random_state=1, shuffle=True)\n",
    "# evaluate model\n",
    "scores = cross_val_score(model_knn,A_valid, b_valid, scoring='accuracy', cv=cv)\n",
    "# report performance\n",
    "print('Accuracy: %.3f (%.3f)' % (mean(scores), std(scores)))"
   ]
  },
  {
   "cell_type": "code",
   "execution_count": 119,
   "id": "f9826ad4",
   "metadata": {},
   "outputs": [
    {
     "name": "stdout",
     "output_type": "stream",
     "text": [
      "Training set score: 0.9550\n",
      "Test set score: 0.8891\n"
     ]
    }
   ],
   "source": [
    "# print the scores on training and test set\n",
    "\n",
    "print('Training set score: {:.4f}'.format(model_knn.score(A_train_1, b_train_1)))\n",
    "\n",
    "print('Test set score: {:.4f}'.format(model_knn.score(A_test_1, b_test_1)))"
   ]
  },
  {
   "cell_type": "code",
   "execution_count": 120,
   "id": "d0284bdb",
   "metadata": {},
   "outputs": [],
   "source": [
    "#if training score is more its overfitting \n",
    "#if test is more then the model is underwitting "
   ]
  },
  {
   "cell_type": "markdown",
   "id": "b746bcd6",
   "metadata": {},
   "source": [
    "# Prediction for KNN "
   ]
  },
  {
   "cell_type": "code",
   "execution_count": 121,
   "id": "637f9904",
   "metadata": {
    "scrolled": false
   },
   "outputs": [
    {
     "name": "stdout",
     "output_type": "stream",
     "text": [
      "0.8854078464578041\n",
      "[[  230   118    13]\n",
      " [  649 12061   719]\n",
      " [   21   104   257]]\n"
     ]
    }
   ],
   "source": [
    "from sklearn.metrics import accuracy_score, classification_report, confusion_matrix\n",
    "\n",
    "y_pred = model_knn.predict(A_test)\n",
    "print(accuracy_score(b_test, y_pred))\n",
    "print(confusion_matrix(b_test, y_pred))"
   ]
  },
  {
   "cell_type": "markdown",
   "id": "47c6ffc8",
   "metadata": {},
   "source": [
    "# Hyper parameter tuning for KNN"
   ]
  },
  {
   "cell_type": "code",
   "execution_count": 122,
   "id": "0fd1c207",
   "metadata": {},
   "outputs": [],
   "source": [
    "#from sklearn.model_selection import GridSearchCV"
   ]
  },
  {
   "cell_type": "code",
   "execution_count": 123,
   "id": "c741e7fd",
   "metadata": {},
   "outputs": [],
   "source": [
    "#k_range = list(range(1, 31))\n",
    "#print(k_range)"
   ]
  },
  {
   "cell_type": "code",
   "execution_count": 124,
   "id": "afcb6425",
   "metadata": {},
   "outputs": [],
   "source": [
    "#param_grid = dict(n_neighbors=k_range)\n",
    "#print(param_grid)"
   ]
  },
  {
   "cell_type": "code",
   "execution_count": 125,
   "id": "3a53253e",
   "metadata": {},
   "outputs": [],
   "source": [
    "# instantiate the grid\n",
    "#grid = GridSearchCV(model_knn, param_grid, cv=10, scoring='accuracy')\n",
    "#grid.fit(A_res,b_res)"
   ]
  },
  {
   "cell_type": "code",
   "execution_count": 126,
   "id": "fdbcdcd0",
   "metadata": {},
   "outputs": [],
   "source": [
    "# print best parameter after tuning \n",
    "#print(grid.best_params_) \n",
    "#grid_predictions = grid.predict(A_test) \n",
    "   \n",
    "# print classification report \n",
    "#print(classification_report(b_test, grid_predictions)) "
   ]
  },
  {
   "cell_type": "markdown",
   "id": "322b1c07",
   "metadata": {},
   "source": [
    "# Model building for Neural network"
   ]
  },
  {
   "cell_type": "code",
   "execution_count": 127,
   "id": "58c80a1e",
   "metadata": {},
   "outputs": [],
   "source": [
    "#from sklearn.neighbors  import KNeighborsClassifier\n",
    "#from keras.models import Sequential\n",
    "\n",
    "#model_nn = Sequential()"
   ]
  },
  {
   "cell_type": "code",
   "execution_count": 128,
   "id": "9d8dd353",
   "metadata": {
    "scrolled": true
   },
   "outputs": [
    {
     "data": {
      "text/plain": [
       "3"
      ]
     },
     "execution_count": 128,
     "metadata": {},
     "output_type": "execute_result"
    }
   ],
   "source": [
    "3#from keras.models import Sequential\n",
    "#from keras.layers import Dense\n",
    "\n",
    "#model_nn.add(Dense(17, activation=\"relu\"))\n",
    "#model_nn.add(Dense(13,activation=\"relu\"))\n",
    "#model_nn.add(Dense(1, activation='sigmoid'))\n",
    "#model_nn.summary()"
   ]
  },
  {
   "cell_type": "code",
   "execution_count": 129,
   "id": "4b6147e0",
   "metadata": {},
   "outputs": [],
   "source": [
    "#model_nn.compile(optimizer='adam', loss='categorical_crossentropy',metrics=['accuracy'] )\n",
    "#model_nn.fit(A_res, b_res,validation_split=0.3, epochs = 30)"
   ]
  },
  {
   "cell_type": "code",
   "execution_count": 130,
   "id": "a7ea2df6",
   "metadata": {},
   "outputs": [],
   "source": [
    "#model_nn.evaluate(A_valid, b_valid)"
   ]
  },
  {
   "cell_type": "code",
   "execution_count": 131,
   "id": "f5a3a355",
   "metadata": {},
   "outputs": [],
   "source": [
    "#model_nn.evaluate(A_test_1, b_test_1)"
   ]
  },
  {
   "cell_type": "code",
   "execution_count": 132,
   "id": "9e19c7e4",
   "metadata": {
    "scrolled": true
   },
   "outputs": [],
   "source": [
    "#model_nn.evaluate(A_test, b_test)"
   ]
  },
  {
   "cell_type": "markdown",
   "id": "15f6dcc3",
   "metadata": {},
   "source": [
    "# Deployment phase"
   ]
  },
  {
   "cell_type": "code",
   "execution_count": 133,
   "id": "9ea133f2",
   "metadata": {},
   "outputs": [],
   "source": [
    "import pickle "
   ]
  },
  {
   "cell_type": "code",
   "execution_count": 134,
   "id": "db1832ed",
   "metadata": {},
   "outputs": [],
   "source": [
    "# saving the model \n",
    "pickle_out = open(\"randomforest.pkl\", mode = \"wb\") \n",
    "pickle.dump(model_rf, pickle_out) \n",
    "pickle_out.close()"
   ]
  },
  {
   "cell_type": "code",
   "execution_count": null,
   "id": "95128986",
   "metadata": {},
   "outputs": [],
   "source": []
  },
  {
   "cell_type": "code",
   "execution_count": null,
   "id": "27cf3b78",
   "metadata": {},
   "outputs": [],
   "source": []
  },
  {
   "cell_type": "code",
   "execution_count": null,
   "id": "0789e666",
   "metadata": {},
   "outputs": [],
   "source": []
  },
  {
   "cell_type": "code",
   "execution_count": null,
   "id": "beeb07e5",
   "metadata": {},
   "outputs": [],
   "source": []
  },
  {
   "cell_type": "code",
   "execution_count": null,
   "id": "7c1b76a1",
   "metadata": {},
   "outputs": [],
   "source": []
  },
  {
   "cell_type": "code",
   "execution_count": null,
   "id": "f3ff1a35",
   "metadata": {},
   "outputs": [],
   "source": []
  },
  {
   "cell_type": "code",
   "execution_count": null,
   "id": "2c556b98",
   "metadata": {},
   "outputs": [],
   "source": []
  },
  {
   "cell_type": "code",
   "execution_count": null,
   "id": "8de81f56",
   "metadata": {},
   "outputs": [],
   "source": []
  },
  {
   "cell_type": "code",
   "execution_count": null,
   "id": "dc6679a0",
   "metadata": {},
   "outputs": [],
   "source": []
  },
  {
   "cell_type": "code",
   "execution_count": null,
   "id": "4acf9c0e",
   "metadata": {},
   "outputs": [],
   "source": []
  },
  {
   "cell_type": "code",
   "execution_count": null,
   "id": "468cd3a3",
   "metadata": {},
   "outputs": [],
   "source": []
  },
  {
   "cell_type": "code",
   "execution_count": null,
   "id": "1e7f260e",
   "metadata": {},
   "outputs": [],
   "source": []
  },
  {
   "cell_type": "code",
   "execution_count": null,
   "id": "e3f5dca8",
   "metadata": {},
   "outputs": [],
   "source": []
  }
 ],
 "metadata": {
  "kernelspec": {
   "display_name": "Python 3",
   "language": "python",
   "name": "python3"
  },
  "language_info": {
   "codemirror_mode": {
    "name": "ipython",
    "version": 3
   },
   "file_extension": ".py",
   "mimetype": "text/x-python",
   "name": "python",
   "nbconvert_exporter": "python",
   "pygments_lexer": "ipython3",
   "version": "3.8.8"
  }
 },
 "nbformat": 4,
 "nbformat_minor": 5
}
